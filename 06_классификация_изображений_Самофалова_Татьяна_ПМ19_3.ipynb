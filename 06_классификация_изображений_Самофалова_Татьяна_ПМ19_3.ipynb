{
  "cells": [
    {
      "cell_type": "code",
      "execution_count": null,
      "metadata": {
        "id": "8XC74NxhONPl"
      },
      "outputs": [],
      "source": [
        "import numpy as np\n",
        "import matplotlib.pyplot as plt\n",
        "from sklearn.model_selection import train_test_split\n",
        "import time\n",
        "import random"
      ]
    },
    {
      "cell_type": "markdown",
      "metadata": {
        "id": "v_v6tSfeYn8c"
      },
      "source": [
        "## Задания для выполнения"
      ]
    },
    {
      "cell_type": "markdown",
      "metadata": {
        "id": "QkuV-6JLij9q"
      },
      "source": [
        "### 1. Загрузите датасет Olivetti faces"
      ]
    },
    {
      "cell_type": "code",
      "execution_count": null,
      "metadata": {
        "id": "FyF5wboAhREE"
      },
      "outputs": [],
      "source": [
        "from sklearn.datasets import fetch_olivetti_faces"
      ]
    },
    {
      "cell_type": "code",
      "execution_count": null,
      "metadata": {
        "colab": {
          "base_uri": "https://localhost:8080/"
        },
        "id": "sXyDmqszhpNe",
        "outputId": "788b572a-eafe-4d82-e90a-4ce0ab633e1e"
      },
      "outputs": [
        {
          "name": "stdout",
          "output_type": "stream",
          "text": [
            "downloading Olivetti faces from https://ndownloader.figshare.com/files/5976027 to /Users/tatyana/scikit_learn_data\n"
          ]
        }
      ],
      "source": [
        "faces = fetch_olivetti_faces()"
      ]
    },
    {
      "cell_type": "markdown",
      "metadata": {
        "id": "tAIAnP6RixQ_"
      },
      "source": [
        "### 2. Познакомьтесь с описанием и структурой датасета"
      ]
    },
    {
      "cell_type": "markdown",
      "metadata": {
        "id": "ptB0Aa2lLleT"
      },
      "source": [
        "* Каждая строка соответствует искаженному изображению лица исходного размера 64 x 64 пикселя. (.data)\n",
        "\n",
        "* Каждая строка представляет собой изображение лица, соответствующее одному из 40 объектов набора данных. (.images)\n",
        "\n",
        "* Метки класса, связанные с каждым изображением лица. Эти метки находятся в диапазоне от 0 до 39 и соответствуют идентификаторам объектов. (.target)\n",
        "\n",
        "* Описание измененного набора данных Olivetti Faces. (.DESCR)"
      ]
    },
    {
      "cell_type": "code",
      "execution_count": null,
      "metadata": {
        "colab": {
          "base_uri": "https://localhost:8080/"
        },
        "id": "_sB6_qN2kNb2",
        "outputId": "363d77c6-35b4-4559-de78-4ec2e404d074"
      },
      "outputs": [
        {
          "data": {
            "text/plain": [
              "array([0.30991736, 0.3677686 , 0.41735536, ..., 0.15289256, 0.16115703,\n",
              "       0.1570248 ], dtype=float32)"
            ]
          },
          "execution_count": 4,
          "metadata": {},
          "output_type": "execute_result"
        }
      ],
      "source": [
        "faces.data[0] "
      ]
    },
    {
      "cell_type": "code",
      "execution_count": null,
      "metadata": {
        "colab": {
          "base_uri": "https://localhost:8080/"
        },
        "id": "pRF4n40UkPlS",
        "outputId": "a05f43e6-d6ce-4bd0-db33-40263e9fff20"
      },
      "outputs": [
        {
          "data": {
            "text/plain": [
              "array([[0.30991736, 0.3677686 , 0.41735536, ..., 0.37190083, 0.3305785 ,\n",
              "        0.30578512],\n",
              "       [0.3429752 , 0.40495867, 0.43801653, ..., 0.37190083, 0.338843  ,\n",
              "        0.3140496 ],\n",
              "       [0.3429752 , 0.41735536, 0.45041323, ..., 0.38016528, 0.338843  ,\n",
              "        0.29752067],\n",
              "       ...,\n",
              "       [0.21487603, 0.20661157, 0.2231405 , ..., 0.15289256, 0.16528925,\n",
              "        0.17355372],\n",
              "       [0.20247933, 0.2107438 , 0.2107438 , ..., 0.14876033, 0.16115703,\n",
              "        0.16528925],\n",
              "       [0.20247933, 0.20661157, 0.20247933, ..., 0.15289256, 0.16115703,\n",
              "        0.1570248 ]], dtype=float32)"
            ]
          },
          "execution_count": 5,
          "metadata": {},
          "output_type": "execute_result"
        }
      ],
      "source": [
        "faces.images[0]"
      ]
    },
    {
      "cell_type": "code",
      "execution_count": null,
      "metadata": {
        "colab": {
          "base_uri": "https://localhost:8080/"
        },
        "id": "16osukImkR54",
        "outputId": "e2fa5aff-af44-4a5a-ec89-42aa1f0073e2"
      },
      "outputs": [
        {
          "data": {
            "text/plain": [
              "0"
            ]
          },
          "execution_count": 6,
          "metadata": {},
          "output_type": "execute_result"
        }
      ],
      "source": [
        "faces.target[0]"
      ]
    },
    {
      "cell_type": "code",
      "execution_count": null,
      "metadata": {
        "colab": {
          "base_uri": "https://localhost:8080/"
        },
        "id": "ok5YClRQkVPF",
        "outputId": "2f895ec1-7c71-4352-9970-797815c8a01b"
      },
      "outputs": [
        {
          "name": "stdout",
          "output_type": "stream",
          "text": [
            ".. _olivetti_faces_dataset:\n",
            "\n",
            "The Olivetti faces dataset\n",
            "--------------------------\n",
            "\n",
            "`This dataset contains a set of face images`_ taken between April 1992 and \n",
            "April 1994 at AT&T Laboratories Cambridge. The\n",
            ":func:`sklearn.datasets.fetch_olivetti_faces` function is the data\n",
            "fetching / caching function that downloads the data\n",
            "archive from AT&T.\n",
            "\n",
            ".. _This dataset contains a set of face images: http://www.cl.cam.ac.uk/research/dtg/attarchive/facedatabase.html\n",
            "\n",
            "As described on the original website:\n",
            "\n",
            "    There are ten different images of each of 40 distinct subjects. For some\n",
            "    subjects, the images were taken at different times, varying the lighting,\n",
            "    facial expressions (open / closed eyes, smiling / not smiling) and facial\n",
            "    details (glasses / no glasses). All the images were taken against a dark\n",
            "    homogeneous background with the subjects in an upright, frontal position \n",
            "    (with tolerance for some side movement).\n",
            "\n",
            "**Data Set Characteristics:**\n",
            "\n",
            "    =================   =====================\n",
            "    Classes                                40\n",
            "    Samples total                         400\n",
            "    Dimensionality                       4096\n",
            "    Features            real, between 0 and 1\n",
            "    =================   =====================\n",
            "\n",
            "The image is quantized to 256 grey levels and stored as unsigned 8-bit \n",
            "integers; the loader will convert these to floating point values on the \n",
            "interval [0, 1], which are easier to work with for many algorithms.\n",
            "\n",
            "The \"target\" for this database is an integer from 0 to 39 indicating the\n",
            "identity of the person pictured; however, with only 10 examples per class, this\n",
            "relatively small dataset is more interesting from an unsupervised or\n",
            "semi-supervised perspective.\n",
            "\n",
            "The original dataset consisted of 92 x 112, while the version available here\n",
            "consists of 64x64 images.\n",
            "\n",
            "When using these images, please give credit to AT&T Laboratories Cambridge.\n",
            "\n"
          ]
        }
      ],
      "source": [
        "print(faces.DESCR)"
      ]
    },
    {
      "cell_type": "markdown",
      "metadata": {
        "id": "PI1HBlS2izes"
      },
      "source": [
        "### 3. Выведите информацию о количественных параметрах датасета;"
      ]
    },
    {
      "cell_type": "code",
      "execution_count": null,
      "metadata": {
        "colab": {
          "base_uri": "https://localhost:8080/"
        },
        "id": "pIUsjYaqllq0",
        "outputId": "391c24a5-ec5d-4ca6-83da-1d193f785a6f"
      },
      "outputs": [
        {
          "data": {
            "text/plain": [
              "(400, 4096)"
            ]
          },
          "execution_count": 8,
          "metadata": {},
          "output_type": "execute_result"
        }
      ],
      "source": [
        "faces.data.shape"
      ]
    },
    {
      "cell_type": "code",
      "execution_count": null,
      "metadata": {
        "colab": {
          "base_uri": "https://localhost:8080/"
        },
        "id": "HI3PG-eel8KP",
        "outputId": "867ef667-c2a5-4673-f66e-6153ac20b7a1"
      },
      "outputs": [
        {
          "data": {
            "text/plain": [
              "(400, 64, 64)"
            ]
          },
          "execution_count": 9,
          "metadata": {},
          "output_type": "execute_result"
        }
      ],
      "source": [
        "faces.images.shape"
      ]
    },
    {
      "cell_type": "code",
      "execution_count": null,
      "metadata": {
        "colab": {
          "base_uri": "https://localhost:8080/"
        },
        "id": "lbK6l-uAoWif",
        "outputId": "ba69a637-72f4-40f6-96d1-92a8bf4efb3b"
      },
      "outputs": [
        {
          "data": {
            "text/plain": [
              "(400,)"
            ]
          },
          "execution_count": 10,
          "metadata": {},
          "output_type": "execute_result"
        }
      ],
      "source": [
        "faces.target.shape"
      ]
    },
    {
      "cell_type": "code",
      "execution_count": null,
      "metadata": {
        "colab": {
          "base_uri": "https://localhost:8080/"
        },
        "id": "iwZmXxY_pZ1Q",
        "outputId": "179bf4c8-9e33-4d5e-f913-3c85b699bdc6"
      },
      "outputs": [
        {
          "data": {
            "text/plain": [
              "(array([ 0,  1,  2,  3,  4,  5,  6,  7,  8,  9, 10, 11, 12, 13, 14, 15, 16,\n",
              "        17, 18, 19, 20, 21, 22, 23, 24, 25, 26, 27, 28, 29, 30, 31, 32, 33,\n",
              "        34, 35, 36, 37, 38, 39]),\n",
              " array([10, 10, 10, 10, 10, 10, 10, 10, 10, 10, 10, 10, 10, 10, 10, 10, 10,\n",
              "        10, 10, 10, 10, 10, 10, 10, 10, 10, 10, 10, 10, 10, 10, 10, 10, 10,\n",
              "        10, 10, 10, 10, 10, 10]))"
            ]
          },
          "execution_count": 11,
          "metadata": {},
          "output_type": "execute_result"
        }
      ],
      "source": [
        "np.unique(faces.target, return_counts=True)"
      ]
    },
    {
      "cell_type": "markdown",
      "metadata": {
        "id": "D2iefSOti2N5"
      },
      "source": [
        "### 4. Выведите несколько изображений на экран используя инструментарий библиотеки matplotlib;"
      ]
    },
    {
      "cell_type": "code",
      "execution_count": null,
      "metadata": {
        "id": "rZ6FFEA5S4_W"
      },
      "outputs": [],
      "source": [
        "random_faces_ind = random.choices(range(faces.images.shape[0]), k=3)"
      ]
    },
    {
      "cell_type": "code",
      "execution_count": null,
      "metadata": {
        "id": "Y4BRHKPpaYwY",
        "outputId": "f7ead2ba-f629-4730-9ff9-44fbed3931fe"
      },
      "outputs": [
        {
          "data": {
            "text/plain": [
              "[38, 338, 241]"
            ]
          },
          "execution_count": 196,
          "metadata": {},
          "output_type": "execute_result"
        }
      ],
      "source": [
        "random_faces_ind"
      ]
    },
    {
      "cell_type": "code",
      "execution_count": null,
      "metadata": {
        "colab": {
          "base_uri": "https://localhost:8080/",
          "height": 281
        },
        "id": "c8JYPxKRhuEx",
        "outputId": "fa2dc7ac-0b14-49b1-83b1-e0d2290febf1"
      },
      "outputs": [
        {
          "data": {
            "image/png": "[encoded data removed]",
            "text/plain": [
              "<Figure size 432x288 with 1 Axes>"
            ]
          },
          "metadata": {
            "needs_background": "light"
          },
          "output_type": "display_data"
        }
      ],
      "source": [
        "plt.imshow(faces.images[random_faces_ind[0]], cmap=plt.cm.bone)\n",
        "plt.title(f'target = {faces.target[random_faces_ind[0]]}');"
      ]
    },
    {
      "cell_type": "code",
      "execution_count": null,
      "metadata": {
        "colab": {
          "base_uri": "https://localhost:8080/",
          "height": 281
        },
        "id": "6A7FlkSGprXl",
        "outputId": "0e65cebf-cdf1-4e36-c72c-0e46cdfec668"
      },
      "outputs": [
        {
          "data": {
            "image/png": "[encoded data removed]",
            "text/plain": [
              "<Figure size 432x288 with 1 Axes>"
            ]
          },
          "metadata": {
            "needs_background": "light"
          },
          "output_type": "display_data"
        }
      ],
      "source": [
        "plt.imshow(faces.images[random_faces_ind[1]], cmap=plt.cm.bone)\n",
        "plt.title(f'target = {faces.target[random_faces_ind[1]]}');"
      ]
    },
    {
      "cell_type": "code",
      "execution_count": null,
      "metadata": {
        "colab": {
          "base_uri": "https://localhost:8080/",
          "height": 281
        },
        "id": "IyelvmPPpsre",
        "outputId": "34078cac-8db7-4e67-8b8a-f8299b4fde7e"
      },
      "outputs": [
        {
          "data": {
            "image/png": "[encoded data removed]",
            "text/plain": [
              "<Figure size 432x288 with 1 Axes>"
            ]
          },
          "metadata": {
            "needs_background": "light"
          },
          "output_type": "display_data"
        }
      ],
      "source": [
        "plt.imshow(faces.images[random_faces_ind[2]], cmap=plt.cm.bone)\n",
        "plt.title(f'target = {faces.target[random_faces_ind[2]]}');"
      ]
    },
    {
      "cell_type": "markdown",
      "metadata": {
        "id": "Ud3nMAaZhhtn"
      },
      "source": [
        "### 5. Разделите эти данные на тестовую и обучающую выборки;\n"
      ]
    },
    {
      "cell_type": "code",
      "execution_count": null,
      "metadata": {
        "id": "01mZ4pUNjiIh"
      },
      "outputs": [],
      "source": [
        "X = faces.data\n",
        "y = faces.target"
      ]
    },
    {
      "cell_type": "code",
      "execution_count": null,
      "metadata": {
        "id": "bSRPn4Csr5MP"
      },
      "outputs": [],
      "source": [
        "X_train, X_test, y_train, y_test = train_test_split(X, y, test_size=0.2,\n",
        "                                                    random_state=42)"
      ]
    },
    {
      "cell_type": "markdown",
      "metadata": {
        "id": "oZHcViCfjjZ9"
      },
      "source": [
        "### Задания 6-9 входят также в дополнительные задания. Поэтому чтобы не делать одну и ту же работу дважды, я выполню дополнительные (SVC, который просят обучить и оценить в заданиях 6-9, входит в дополнительные задания)"
      ]
    },
    {
      "cell_type": "markdown",
      "metadata": {
        "id": "lQi-vUXqjrJF"
      },
      "source": [
        "## Дополнительные задания"
      ]
    },
    {
      "cell_type": "markdown",
      "metadata": {
        "id": "4YHB6WtFjuXA"
      },
      "source": [
        "### 1. Постройте модели классификации на основе следующих методов:\n",
        "\n",
        "a. логистическая регрессия (LogisticRegression);\n",
        "\n",
        "b. метод опорных векторов с гауссовым ядром (SVC);\n",
        "\n",
        "c. метод опорных векторов с полиномиальным ядром (SVC);\n",
        "\n",
        "d. метод k ближайших соседей (KNeighborsClassifier);\n",
        "\n",
        "e. многослойный перцептрон (MLP);\n",
        "\n",
        "f. другие методы по желанию"
      ]
    },
    {
      "cell_type": "code",
      "execution_count": null,
      "metadata": {
        "id": "7klYucHIjxH4"
      },
      "outputs": [],
      "source": [
        "from sklearn.linear_model import LogisticRegression\n",
        "from sklearn.svm import SVC\n",
        "from sklearn.neighbors import KNeighborsClassifier\n",
        "from sklearn.neural_network import MLPClassifier\n",
        "from sklearn.ensemble import RandomForestClassifier"
      ]
    },
    {
      "cell_type": "code",
      "execution_count": null,
      "metadata": {
        "id": "3idu6vQWeJ5F"
      },
      "outputs": [],
      "source": [
        "from sklearn.model_selection import (train_test_split, cross_validate,\n",
        "                                     learning_curve, GridSearchCV, KFold)\n",
        "from sklearn.metrics import (make_scorer, accuracy_score,\n",
        "                             confusion_matrix, f1_score,\n",
        "                             precision_score, recall_score,\n",
        "                             roc_auc_score)"
      ]
    },
    {
      "cell_type": "code",
      "execution_count": null,
      "metadata": {
        "id": "_b7PMvN0zZSz"
      },
      "outputs": [],
      "source": [
        "import pandas as pd"
      ]
    },
    {
      "cell_type": "code",
      "execution_count": null,
      "metadata": {
        "id": "qP7iKG21dpmo"
      },
      "outputs": [],
      "source": [
        "X_train, X_test, y_train, y_test = train_test_split(X, y, test_size=0.1,\n",
        "                                                    random_state=42)"
      ]
    },
    {
      "cell_type": "code",
      "execution_count": null,
      "metadata": {
        "id": "Fbhk_DlJd29D"
      },
      "outputs": [],
      "source": [
        "models = {'LogisticRegression': LogisticRegression(random_state=42, n_jobs=2),\n",
        "          'SVC_poly': SVC(kernel='poly', random_state=42),\n",
        "          'SVC_g': SVC(kernel='rbf', random_state=42),\n",
        "          'KNeighborsClassifier': KNeighborsClassifier(n_jobs=2),\n",
        "          'MLP': MLPClassifier(random_state=42, max_iter=400),\n",
        "          'RandomForestClassifier': RandomForestClassifier(n_jobs=2)}"
      ]
    },
    {
      "cell_type": "code",
      "execution_count": null,
      "metadata": {
        "id": "SLHKkPgReGIt"
      },
      "outputs": [],
      "source": [
        "scoring = {'accuracy' : make_scorer(accuracy_score), \n",
        "           'precision' : make_scorer(precision_score, average='macro'),\n",
        "           'recall' : make_scorer(recall_score, average='macro'),\n",
        "           'f1': make_scorer(f1_score, average='macro')}"
      ]
    },
    {
      "cell_type": "code",
      "execution_count": null,
      "metadata": {
        "colab": {
          "base_uri": "https://localhost:8080/"
        },
        "id": "5Z5QbejQeGLh",
        "outputId": "6d47be97-8ce1-4173-9e99-0b7508abfe63"
      },
      "outputs": [
        {
          "name": "stderr",
          "output_type": "stream",
          "text": [
            "[Parallel(n_jobs=-1)]: Using backend LokyBackend with 4 concurrent workers.\n",
            "[Parallel(n_jobs=-1)]: Done   3 out of   3 | elapsed:    6.3s finished\n",
            "[Parallel(n_jobs=-1)]: Using backend LokyBackend with 4 concurrent workers.\n",
            "[Parallel(n_jobs=-1)]: Done   3 out of   3 | elapsed:    0.7s finished\n",
            "[Parallel(n_jobs=-1)]: Using backend LokyBackend with 4 concurrent workers.\n",
            "[Parallel(n_jobs=-1)]: Done   3 out of   3 | elapsed:    0.5s finished\n",
            "[Parallel(n_jobs=-1)]: Using backend LokyBackend with 4 concurrent workers.\n",
            "[Parallel(n_jobs=-1)]: Done   3 out of   3 | elapsed:    0.1s finished\n",
            "[Parallel(n_jobs=-1)]: Using backend LokyBackend with 4 concurrent workers.\n",
            "[Parallel(n_jobs=-1)]: Done   3 out of   3 | elapsed:   10.0s finished\n",
            "[Parallel(n_jobs=-1)]: Using backend LokyBackend with 4 concurrent workers.\n",
            "[Parallel(n_jobs=-1)]: Done   3 out of   3 | elapsed:    2.6s finished\n"
          ]
        }
      ],
      "source": [
        "res_metrics = dict()\n",
        "for name_model, model in models.items():\n",
        "    res_metrics[name_model] = cross_validate(model, X_train, y_train, verbose=2,\n",
        "                                             n_jobs=-1, scoring=scoring, cv=3)"
      ]
    },
    {
      "cell_type": "markdown",
      "metadata": {
        "id": "dPBjF3xCfcqp"
      },
      "source": [
        "### 2. Проанализируйте метрики каждой модели и сделайте выводы об их эффективности и применимости. Сравните эффективность всех этих моделей и выберите лучшую;"
      ]
    },
    {
      "cell_type": "code",
      "execution_count": null,
      "metadata": {
        "id": "hAvN441NeGOk"
      },
      "outputs": [],
      "source": [
        "analysis = []\n",
        "for clf, met in res_metrics.items():\n",
        "    analysis.append([])\n",
        "    analysis[-1].append(clf)\n",
        "    analysis[-1].extend([np.mean(met['test_accuracy']),\n",
        "                         np.mean(met['test_precision']),\n",
        "                         np.mean(met['test_recall']),\n",
        "                         np.mean(met['test_f1'])])"
      ]
    },
    {
      "cell_type": "code",
      "execution_count": null,
      "metadata": {
        "id": "kHli5M2gezNc"
      },
      "outputs": [],
      "source": [
        "col = ['model', 'accuracy', 'precision', 'recall', 'f1']\n",
        "res = pd.DataFrame(analysis, columns=col)"
      ]
    },
    {
      "cell_type": "code",
      "execution_count": null,
      "metadata": {
        "colab": {
          "base_uri": "https://localhost:8080/",
          "height": 237
        },
        "id": "EQ3QgNj-ezR3",
        "outputId": "0c440fe1-5701-4e9a-e2c8-ca2e49907195"
      },
      "outputs": [
        {
          "data": {
            "text/html": [
              "<div>\n",
              "<style scoped>\n",
              "    .dataframe tbody tr th:only-of-type {\n",
              "        vertical-align: middle;\n",
              "    }\n",
              "\n",
              "    .dataframe tbody tr th {\n",
              "        vertical-align: top;\n",
              "    }\n",
              "\n",
              "    .dataframe thead th {\n",
              "        text-align: right;\n",
              "    }\n",
              "</style>\n",
              "<table border=\"1\" class=\"dataframe\">\n",
              "  <thead>\n",
              "    <tr style=\"text-align: right;\">\n",
              "      <th></th>\n",
              "      <th>model</th>\n",
              "      <th>accuracy</th>\n",
              "      <th>precision</th>\n",
              "      <th>recall</th>\n",
              "      <th>f1</th>\n",
              "    </tr>\n",
              "  </thead>\n",
              "  <tbody>\n",
              "    <tr>\n",
              "      <th>0</th>\n",
              "      <td>LogisticRegression</td>\n",
              "      <td>0.922222</td>\n",
              "      <td>0.927083</td>\n",
              "      <td>0.920139</td>\n",
              "      <td>0.908214</td>\n",
              "    </tr>\n",
              "    <tr>\n",
              "      <th>1</th>\n",
              "      <td>SVC_poly</td>\n",
              "      <td>0.900000</td>\n",
              "      <td>0.904306</td>\n",
              "      <td>0.897917</td>\n",
              "      <td>0.883161</td>\n",
              "    </tr>\n",
              "    <tr>\n",
              "      <th>2</th>\n",
              "      <td>SVC_g</td>\n",
              "      <td>0.866667</td>\n",
              "      <td>0.876713</td>\n",
              "      <td>0.859028</td>\n",
              "      <td>0.847698</td>\n",
              "    </tr>\n",
              "    <tr>\n",
              "      <th>3</th>\n",
              "      <td>KNeighborsClassifier</td>\n",
              "      <td>0.780556</td>\n",
              "      <td>0.805337</td>\n",
              "      <td>0.772917</td>\n",
              "      <td>0.758048</td>\n",
              "    </tr>\n",
              "    <tr>\n",
              "      <th>4</th>\n",
              "      <td>MLP</td>\n",
              "      <td>0.516667</td>\n",
              "      <td>0.508919</td>\n",
              "      <td>0.512500</td>\n",
              "      <td>0.469891</td>\n",
              "    </tr>\n",
              "    <tr>\n",
              "      <th>5</th>\n",
              "      <td>RandomForestClassifier</td>\n",
              "      <td>0.888889</td>\n",
              "      <td>0.904444</td>\n",
              "      <td>0.888889</td>\n",
              "      <td>0.877229</td>\n",
              "    </tr>\n",
              "  </tbody>\n",
              "</table>\n",
              "</div>"
            ],
            "text/plain": [
              "                    model  accuracy  precision    recall        f1\n",
              "0      LogisticRegression  0.922222   0.927083  0.920139  0.908214\n",
              "1                SVC_poly  0.900000   0.904306  0.897917  0.883161\n",
              "2                   SVC_g  0.866667   0.876713  0.859028  0.847698\n",
              "3    KNeighborsClassifier  0.780556   0.805337  0.772917  0.758048\n",
              "4                     MLP  0.516667   0.508919  0.512500  0.469891\n",
              "5  RandomForestClassifier  0.888889   0.904444  0.888889  0.877229"
            ]
          },
          "execution_count": 87,
          "metadata": {},
          "output_type": "execute_result"
        }
      ],
      "source": [
        "res"
      ]
    },
    {
      "cell_type": "code",
      "execution_count": null,
      "metadata": {
        "id": "v2TwwoSLaYwe"
      },
      "outputs": [],
      "source": [
        "def highlight_max(s, props=''):\n",
        "    \"\"\"\n",
        "    Highlights the maximum values in colour.\n",
        "    \"\"\"\n",
        "    return np.where(s == np.nanmax(s.values), props, '')"
      ]
    },
    {
      "cell_type": "code",
      "execution_count": null,
      "metadata": {
        "id": "q-s7l8MsaYwe",
        "outputId": "1d1255fd-8b32-408c-cec4-a0d9ea037b20"
      },
      "outputs": [
        {
          "data": {
            "text/html": [
              "<style type=\"text/css\">\n",
              "#T_cdd3d_row0_col0, #T_cdd3d_row0_col1, #T_cdd3d_row0_col2, #T_cdd3d_row0_col3 {\n",
              "  color: green;\n",
              "}\n",
              "</style>\n",
              "<table id=\"T_cdd3d_\">\n",
              "  <thead>\n",
              "    <tr>\n",
              "      <th class=\"blank level0\" >&nbsp;</th>\n",
              "      <th class=\"col_heading level0 col0\" >accuracy</th>\n",
              "      <th class=\"col_heading level0 col1\" >precision</th>\n",
              "      <th class=\"col_heading level0 col2\" >recall</th>\n",
              "      <th class=\"col_heading level0 col3\" >f1</th>\n",
              "    </tr>\n",
              "  </thead>\n",
              "  <tbody>\n",
              "    <tr>\n",
              "      <th id=\"T_cdd3d_level0_row0\" class=\"row_heading level0 row0\" >0</th>\n",
              "      <td id=\"T_cdd3d_row0_col0\" class=\"data row0 col0\" >0.922222</td>\n",
              "      <td id=\"T_cdd3d_row0_col1\" class=\"data row0 col1\" >0.927083</td>\n",
              "      <td id=\"T_cdd3d_row0_col2\" class=\"data row0 col2\" >0.920139</td>\n",
              "      <td id=\"T_cdd3d_row0_col3\" class=\"data row0 col3\" >0.908214</td>\n",
              "    </tr>\n",
              "    <tr>\n",
              "      <th id=\"T_cdd3d_level0_row1\" class=\"row_heading level0 row1\" >1</th>\n",
              "      <td id=\"T_cdd3d_row1_col0\" class=\"data row1 col0\" >0.900000</td>\n",
              "      <td id=\"T_cdd3d_row1_col1\" class=\"data row1 col1\" >0.904306</td>\n",
              "      <td id=\"T_cdd3d_row1_col2\" class=\"data row1 col2\" >0.897917</td>\n",
              "      <td id=\"T_cdd3d_row1_col3\" class=\"data row1 col3\" >0.883161</td>\n",
              "    </tr>\n",
              "    <tr>\n",
              "      <th id=\"T_cdd3d_level0_row2\" class=\"row_heading level0 row2\" >2</th>\n",
              "      <td id=\"T_cdd3d_row2_col0\" class=\"data row2 col0\" >0.866667</td>\n",
              "      <td id=\"T_cdd3d_row2_col1\" class=\"data row2 col1\" >0.876713</td>\n",
              "      <td id=\"T_cdd3d_row2_col2\" class=\"data row2 col2\" >0.859028</td>\n",
              "      <td id=\"T_cdd3d_row2_col3\" class=\"data row2 col3\" >0.847698</td>\n",
              "    </tr>\n",
              "    <tr>\n",
              "      <th id=\"T_cdd3d_level0_row3\" class=\"row_heading level0 row3\" >3</th>\n",
              "      <td id=\"T_cdd3d_row3_col0\" class=\"data row3 col0\" >0.780556</td>\n",
              "      <td id=\"T_cdd3d_row3_col1\" class=\"data row3 col1\" >0.805337</td>\n",
              "      <td id=\"T_cdd3d_row3_col2\" class=\"data row3 col2\" >0.772917</td>\n",
              "      <td id=\"T_cdd3d_row3_col3\" class=\"data row3 col3\" >0.758048</td>\n",
              "    </tr>\n",
              "    <tr>\n",
              "      <th id=\"T_cdd3d_level0_row4\" class=\"row_heading level0 row4\" >4</th>\n",
              "      <td id=\"T_cdd3d_row4_col0\" class=\"data row4 col0\" >0.516667</td>\n",
              "      <td id=\"T_cdd3d_row4_col1\" class=\"data row4 col1\" >0.508919</td>\n",
              "      <td id=\"T_cdd3d_row4_col2\" class=\"data row4 col2\" >0.512500</td>\n",
              "      <td id=\"T_cdd3d_row4_col3\" class=\"data row4 col3\" >0.469891</td>\n",
              "    </tr>\n",
              "    <tr>\n",
              "      <th id=\"T_cdd3d_level0_row5\" class=\"row_heading level0 row5\" >5</th>\n",
              "      <td id=\"T_cdd3d_row5_col0\" class=\"data row5 col0\" >0.888889</td>\n",
              "      <td id=\"T_cdd3d_row5_col1\" class=\"data row5 col1\" >0.904444</td>\n",
              "      <td id=\"T_cdd3d_row5_col2\" class=\"data row5 col2\" >0.888889</td>\n",
              "      <td id=\"T_cdd3d_row5_col3\" class=\"data row5 col3\" >0.877229</td>\n",
              "    </tr>\n",
              "  </tbody>\n",
              "</table>\n"
            ],
            "text/plain": [
              "<pandas.io.formats.style.Styler at 0x7f77d86651f0>"
            ]
          },
          "execution_count": 89,
          "metadata": {},
          "output_type": "execute_result"
        }
      ],
      "source": [
        "res_c = res.iloc[:, 1:].style.apply(highlight_max, props='color:green', axis=0)\n",
        "res_c"
      ]
    },
    {
      "cell_type": "code",
      "execution_count": null,
      "metadata": {
        "id": "oAsBl-xnaYwe",
        "outputId": "2a882adb-2c7b-47cb-c16b-cea1678e90a5"
      },
      "outputs": [
        {
          "name": "stderr",
          "output_type": "stream",
          "text": [
            "/Users/tatyana/opt/anaconda3/lib/python3.8/site-packages/sklearn/neural_network/_multilayer_perceptron.py:692: ConvergenceWarning: Stochastic Optimizer: Maximum iterations (400) reached and the optimization hasn't converged yet.\n",
            "  warnings.warn(\n"
          ]
        }
      ],
      "source": [
        "test_score = dict()\n",
        "for name_model, model in models.items():\n",
        "    model.fit(X_train, y_train)\n",
        "    test_score[name_model] = f1_score(y_test, model.predict(X_test), average='macro')"
      ]
    },
    {
      "cell_type": "code",
      "execution_count": null,
      "metadata": {
        "id": "qMP1_8YeaYwe",
        "outputId": "6ad32646-860f-4c65-f1c0-93a153f1334b"
      },
      "outputs": [
        {
          "data": {
            "text/plain": [
              "{'LogisticRegression': 1.0,\n",
              " 'SVC_poly': 1.0,\n",
              " 'SVC_g': 0.9523809523809523,\n",
              " 'KNeighborsClassifier': 0.7333333333333333,\n",
              " 'MLP': 0.8494252873563218,\n",
              " 'RandomForestClassifier': 0.9310344827586207}"
            ]
          },
          "execution_count": 91,
          "metadata": {},
          "output_type": "execute_result"
        }
      ],
      "source": [
        "test_score"
      ]
    },
    {
      "cell_type": "markdown",
      "metadata": {
        "id": "sGJ7cfaCaYwf"
      },
      "source": [
        "На мой взгляд, стоит выбрать логистическую регрессию, она показала наилучшие результаты по всем метрикам. Также хорошие результаты показали себя все остальные модели, кроме, MLP (однако мы видим, что он не успел обучиться. Исправим это ниже)."
      ]
    },
    {
      "cell_type": "markdown",
      "metadata": {
        "id": "dtZ6eO54kwJY"
      },
      "source": [
        "### 3. Для каждой модели из п.3 постройте кривые обучения и диагностируйте недо-/переобучение модели. Попробуйте изменить параметр регуляризации для улучшения результатов модели.\n"
      ]
    },
    {
      "cell_type": "code",
      "execution_count": null,
      "metadata": {
        "id": "AkRaEOzSlopO"
      },
      "outputs": [],
      "source": [
        "from itertools import product"
      ]
    },
    {
      "cell_type": "code",
      "execution_count": null,
      "metadata": {
        "colab": {
          "base_uri": "https://localhost:8080/",
          "height": 879
        },
        "id": "1d1lPksXezbM",
        "outputId": "b59a6912-90db-497d-9a91-bc546ae4fbfe"
      },
      "outputs": [
        {
          "data": {
            "image/png": "[encoded data removed]",
            "text/plain": [
              "<Figure size 1440x1080 with 6 Axes>"
            ]
          },
          "metadata": {
            "needs_background": "light"
          },
          "output_type": "display_data"
        }
      ],
      "source": [
        "fig, axes = plt.subplots(2, 3, figsize=(20, 15))\n",
        "ind_sub = list(product(range(3), repeat=2))\n",
        "ts = np.linspace(0.6, 1, 7)\n",
        "\n",
        "for i, item in enumerate(models.items()):\n",
        "    name, model = item\n",
        "    title = f'Learning curve for {name}'\n",
        "    train_sz, train_score, test_score = learning_curve(model, X_train, y_train,\n",
        "                                                       cv=3, random_state=42,\n",
        "                                                       scoring=scoring['accuracy'],\n",
        "                                                       train_sizes=ts,\n",
        "                                                       n_jobs=-1)\n",
        "    x, y = train_sz, np.mean(train_score, axis=1)\n",
        "    axes[ind_sub[i][0], ind_sub[i][1]].plot(x, y, label='train')\n",
        "    x, y = train_sz, np.mean(test_score, axis=1)\n",
        "    axes[ind_sub[i][0], ind_sub[i][1]].plot(x, y, label='test')\n",
        "    axes[ind_sub[i][0], ind_sub[i][1]].legend()\n",
        "    axes[ind_sub[i][0], ind_sub[i][1]].set_title(title)"
      ]
    },
    {
      "cell_type": "markdown",
      "metadata": {
        "id": "wPZgMPvnaYwf"
      },
      "source": [
        "MlP недообучен. А вот все остальные модели переобучены. Хотя у KNN даже начал уменьшаться зазор (качество на тесте и трейне стало меньше отличаться)."
      ]
    },
    {
      "cell_type": "code",
      "execution_count": null,
      "metadata": {
        "id": "v-OddKr9nddz"
      },
      "outputs": [],
      "source": [
        "param_model = {'LogisticRegression': {'penalty': ['l2', 'none'],\n",
        "                                      'C': [0.1, 1, 10],\n",
        "                                      'max_iter': [250, 300]},\n",
        "              \n",
        "               'SVC_poly': {'C': [1, 10, 15], \n",
        "                            'degree': [2, 3, 4]},\n",
        "              \n",
        "               'SVC_g': {'C': [1, 10, 15]},\n",
        "              \n",
        "               'KNeighborsClassifier': {'n_neighbors' : np.arange(5, 15, 3),\n",
        "                                        'weights': ['uniform', 'distance']},\n",
        "              \n",
        "               'MLP': {'early_stopping': [False, True],\n",
        "                       'n_iter_no_change': [5, 10, 15],\n",
        "                       'max_iter': [400, 600], \n",
        "                       'hidden_layer_sizes': [(100,), (200,), (100, 50)]},\n",
        "\n",
        "               'RandomForestClassifier': {'n_estimators': [10, 50, 100],\n",
        "                                          'max_depth': [None, 3, 5, 10],\n",
        "                                          'max_leaf_nodes': [None, 5, 10, 50],\n",
        "                                          'max_features': ['log2', 'sqrt']}}"
      ]
    },
    {
      "cell_type": "code",
      "execution_count": null,
      "metadata": {
        "colab": {
          "base_uri": "https://localhost:8080/"
        },
        "id": "JTIH9mrbnqv7",
        "outputId": "bdef2ca5-a077-44b6-c1e5-f69a50b5d425"
      },
      "outputs": [
        {
          "name": "stdout",
          "output_type": "stream",
          "text": [
            "Fitting 3 folds for each of 12 candidates, totalling 36 fits\n",
            "Fitting 3 folds for each of 9 candidates, totalling 27 fits\n",
            "Fitting 3 folds for each of 3 candidates, totalling 9 fits\n",
            "Fitting 3 folds for each of 8 candidates, totalling 24 fits\n",
            "Fitting 3 folds for each of 36 candidates, totalling 108 fits\n",
            "Fitting 3 folds for each of 96 candidates, totalling 288 fits\n"
          ]
        }
      ],
      "source": [
        "res_gscv = dict()\n",
        "for name_model, model in models.items():\n",
        "    gscv = GridSearchCV(model, param_model[name_model], \n",
        "                        cv=3, n_jobs=-1, verbose=3, \n",
        "                        scoring=scoring['f1'], \n",
        "                        error_score='raise')\n",
        "    gscv.fit(X_train, y_train)\n",
        "    res_gscv[name_model] = [gscv.best_params_, gscv.best_score_]"
      ]
    },
    {
      "cell_type": "code",
      "execution_count": null,
      "metadata": {
        "id": "eMEZtEff31ul"
      },
      "outputs": [],
      "source": [
        "new = []\n",
        "for mod, best in res_gscv.items():\n",
        "    new.append([mod])\n",
        "    new[-1].extend(best)\n",
        "\n",
        "res_new = pd.DataFrame(new, columns=['cls', 'param', 'f1'])"
      ]
    },
    {
      "cell_type": "code",
      "execution_count": null,
      "metadata": {
        "id": "ne1RPxvh4_Wb",
        "outputId": "9092d118-deb3-4b5b-b2e4-84d93c629fe9"
      },
      "outputs": [
        {
          "data": {
            "text/html": [
              "<div>\n",
              "<style scoped>\n",
              "    .dataframe tbody tr th:only-of-type {\n",
              "        vertical-align: middle;\n",
              "    }\n",
              "\n",
              "    .dataframe tbody tr th {\n",
              "        vertical-align: top;\n",
              "    }\n",
              "\n",
              "    .dataframe thead th {\n",
              "        text-align: right;\n",
              "    }\n",
              "</style>\n",
              "<table border=\"1\" class=\"dataframe\">\n",
              "  <thead>\n",
              "    <tr style=\"text-align: right;\">\n",
              "      <th></th>\n",
              "      <th>cls</th>\n",
              "      <th>param</th>\n",
              "      <th>f1</th>\n",
              "    </tr>\n",
              "  </thead>\n",
              "  <tbody>\n",
              "    <tr>\n",
              "      <th>0</th>\n",
              "      <td>LogisticRegression</td>\n",
              "      <td>{'C': 10, 'max_iter': 250, 'penalty': 'l2'}</td>\n",
              "      <td>0.910774</td>\n",
              "    </tr>\n",
              "    <tr>\n",
              "      <th>1</th>\n",
              "      <td>SVC_poly</td>\n",
              "      <td>{'C': 1, 'degree': 2}</td>\n",
              "      <td>0.889094</td>\n",
              "    </tr>\n",
              "    <tr>\n",
              "      <th>2</th>\n",
              "      <td>SVC_g</td>\n",
              "      <td>{'C': 10}</td>\n",
              "      <td>0.880972</td>\n",
              "    </tr>\n",
              "    <tr>\n",
              "      <th>3</th>\n",
              "      <td>KNeighborsClassifier</td>\n",
              "      <td>{'n_neighbors': 5, 'weights': 'distance'}</td>\n",
              "      <td>0.807418</td>\n",
              "    </tr>\n",
              "    <tr>\n",
              "      <th>4</th>\n",
              "      <td>MLP</td>\n",
              "      <td>{'early_stopping': False, 'hidden_layer_sizes'...</td>\n",
              "      <td>0.892923</td>\n",
              "    </tr>\n",
              "    <tr>\n",
              "      <th>5</th>\n",
              "      <td>RandomForestClassifier</td>\n",
              "      <td>{'max_depth': None, 'max_features': 'log2', 'm...</td>\n",
              "      <td>0.884312</td>\n",
              "    </tr>\n",
              "  </tbody>\n",
              "</table>\n",
              "</div>"
            ],
            "text/plain": [
              "                      cls                                              param  \\\n",
              "0      LogisticRegression        {'C': 10, 'max_iter': 250, 'penalty': 'l2'}   \n",
              "1                SVC_poly                              {'C': 1, 'degree': 2}   \n",
              "2                   SVC_g                                          {'C': 10}   \n",
              "3    KNeighborsClassifier          {'n_neighbors': 5, 'weights': 'distance'}   \n",
              "4                     MLP  {'early_stopping': False, 'hidden_layer_sizes'...   \n",
              "5  RandomForestClassifier  {'max_depth': None, 'max_features': 'log2', 'm...   \n",
              "\n",
              "         f1  \n",
              "0  0.910774  \n",
              "1  0.889094  \n",
              "2  0.880972  \n",
              "3  0.807418  \n",
              "4  0.892923  \n",
              "5  0.884312  "
            ]
          },
          "execution_count": 68,
          "metadata": {},
          "output_type": "execute_result"
        }
      ],
      "source": [
        "res_new"
      ]
    },
    {
      "cell_type": "code",
      "execution_count": null,
      "metadata": {
        "id": "8yKWautUaYwg",
        "outputId": "a6acc2d2-79f8-4223-9fd7-bca2c4c10f58"
      },
      "outputs": [
        {
          "data": {
            "text/html": [
              "<div>\n",
              "<style scoped>\n",
              "    .dataframe tbody tr th:only-of-type {\n",
              "        vertical-align: middle;\n",
              "    }\n",
              "\n",
              "    .dataframe tbody tr th {\n",
              "        vertical-align: top;\n",
              "    }\n",
              "\n",
              "    .dataframe thead th {\n",
              "        text-align: right;\n",
              "    }\n",
              "</style>\n",
              "<table border=\"1\" class=\"dataframe\">\n",
              "  <thead>\n",
              "    <tr style=\"text-align: right;\">\n",
              "      <th></th>\n",
              "      <th>model</th>\n",
              "      <th>accuracy</th>\n",
              "      <th>precision</th>\n",
              "      <th>recall</th>\n",
              "      <th>f1</th>\n",
              "    </tr>\n",
              "  </thead>\n",
              "  <tbody>\n",
              "    <tr>\n",
              "      <th>0</th>\n",
              "      <td>LogisticRegression</td>\n",
              "      <td>0.922222</td>\n",
              "      <td>0.927083</td>\n",
              "      <td>0.920139</td>\n",
              "      <td>0.908214</td>\n",
              "    </tr>\n",
              "    <tr>\n",
              "      <th>1</th>\n",
              "      <td>SVC_poly</td>\n",
              "      <td>0.900000</td>\n",
              "      <td>0.904306</td>\n",
              "      <td>0.897917</td>\n",
              "      <td>0.883161</td>\n",
              "    </tr>\n",
              "    <tr>\n",
              "      <th>2</th>\n",
              "      <td>SVC_g</td>\n",
              "      <td>0.866667</td>\n",
              "      <td>0.876713</td>\n",
              "      <td>0.859028</td>\n",
              "      <td>0.847698</td>\n",
              "    </tr>\n",
              "    <tr>\n",
              "      <th>3</th>\n",
              "      <td>KNeighborsClassifier</td>\n",
              "      <td>0.780556</td>\n",
              "      <td>0.805337</td>\n",
              "      <td>0.772917</td>\n",
              "      <td>0.758048</td>\n",
              "    </tr>\n",
              "    <tr>\n",
              "      <th>4</th>\n",
              "      <td>MLP</td>\n",
              "      <td>0.380556</td>\n",
              "      <td>0.330388</td>\n",
              "      <td>0.384028</td>\n",
              "      <td>0.323322</td>\n",
              "    </tr>\n",
              "    <tr>\n",
              "      <th>5</th>\n",
              "      <td>RandomForestClassifier</td>\n",
              "      <td>0.891667</td>\n",
              "      <td>0.904167</td>\n",
              "      <td>0.890278</td>\n",
              "      <td>0.881210</td>\n",
              "    </tr>\n",
              "  </tbody>\n",
              "</table>\n",
              "</div>"
            ],
            "text/plain": [
              "                    model  accuracy  precision    recall        f1\n",
              "0      LogisticRegression  0.922222   0.927083  0.920139  0.908214\n",
              "1                SVC_poly  0.900000   0.904306  0.897917  0.883161\n",
              "2                   SVC_g  0.866667   0.876713  0.859028  0.847698\n",
              "3    KNeighborsClassifier  0.780556   0.805337  0.772917  0.758048\n",
              "4                     MLP  0.380556   0.330388  0.384028  0.323322\n",
              "5  RandomForestClassifier  0.891667   0.904167  0.890278  0.881210"
            ]
          },
          "execution_count": 69,
          "metadata": {},
          "output_type": "execute_result"
        }
      ],
      "source": [
        "res"
      ]
    },
    {
      "cell_type": "markdown",
      "metadata": {
        "id": "iwAoeEVvaYwg"
      },
      "source": [
        "Ну, f1-score стал получше у всех, кроме KNN. Однако качество улучилось несильно (кроме MLP). Скорее всего, не получилось исправить переобучение для большинства моделей. "
      ]
    },
    {
      "cell_type": "code",
      "execution_count": null,
      "metadata": {
        "id": "NlATiyccaYwg",
        "outputId": "9f0401a9-6c83-4a33-941f-5736cbb0c32e"
      },
      "outputs": [
        {
          "data": {
            "text/plain": [
              "{'early_stopping': False,\n",
              " 'hidden_layer_sizes': (200,),\n",
              " 'max_iter': 600,\n",
              " 'n_iter_no_change': 10}"
            ]
          },
          "execution_count": 74,
          "metadata": {},
          "output_type": "execute_result"
        }
      ],
      "source": [
        "res_gscv['MLP'][0]"
      ]
    },
    {
      "cell_type": "code",
      "execution_count": null,
      "metadata": {
        "id": "-FPJB1V_aYwh"
      },
      "outputs": [],
      "source": [
        "new_model = {'LogisticRegression': LogisticRegression(n_jobs=2, random_state=42, \n",
        "                                                      **res_gscv['LogisticRegression'][0]),\n",
        "             \n",
        "             'SVC_poly': SVC(kernel='poly', random_state=42,\n",
        "                            **res_gscv['SVC_poly'][0]),\n",
        "             \n",
        "             'SVC_g': SVC(random_state=42,\n",
        "                         **res_gscv['SVC_g'][0]),\n",
        "             \n",
        "             'KNeighborsClassifier': KNeighborsClassifier(n_jobs=2,\n",
        "                                                         **res_gscv['KNeighborsClassifier'][0]),\n",
        "             \n",
        "             'MLP': MLPClassifier(random_state=42, max_iter=800,\n",
        "                                 **{'early_stopping': False,\n",
        "                                    'hidden_layer_sizes': (200,),\n",
        "                                    'n_iter_no_change': 10}),\n",
        "             \n",
        "             'RandomForestClassifier': RandomForestClassifier(n_jobs=2,\n",
        "                                                             **res_gscv['RandomForestClassifier'][0])}"
      ]
    },
    {
      "cell_type": "code",
      "execution_count": null,
      "metadata": {
        "id": "IHN4VAMyaYwh",
        "outputId": "2adfc718-a412-4cc8-9871-53f3395b075d"
      },
      "outputs": [
        {
          "name": "stdout",
          "output_type": "stream",
          "text": [
            "[learning_curve] Training set sizes: [144 160 176 192 208 224 240]\n"
          ]
        },
        {
          "name": "stderr",
          "output_type": "stream",
          "text": [
            "[Parallel(n_jobs=-1)]: Using backend LokyBackend with 4 concurrent workers.\n",
            "[Parallel(n_jobs=-1)]: Done  11 out of  21 | elapsed:   36.0s remaining:   32.7s\n",
            "[Parallel(n_jobs=-1)]: Done  21 out of  21 | elapsed:  1.1min finished\n",
            "[Parallel(n_jobs=-1)]: Using backend LokyBackend with 4 concurrent workers.\n"
          ]
        },
        {
          "name": "stdout",
          "output_type": "stream",
          "text": [
            "[learning_curve] Training set sizes: [144 160 176 192 208 224 240]\n"
          ]
        },
        {
          "name": "stderr",
          "output_type": "stream",
          "text": [
            "[Parallel(n_jobs=-1)]: Done  11 out of  21 | elapsed:    1.3s remaining:    1.2s\n",
            "[Parallel(n_jobs=-1)]: Done  21 out of  21 | elapsed:    2.5s finished\n",
            "[Parallel(n_jobs=-1)]: Using backend LokyBackend with 4 concurrent workers.\n"
          ]
        },
        {
          "name": "stdout",
          "output_type": "stream",
          "text": [
            "[learning_curve] Training set sizes: [144 160 176 192 208 224 240]\n"
          ]
        },
        {
          "name": "stderr",
          "output_type": "stream",
          "text": [
            "[Parallel(n_jobs=-1)]: Done  11 out of  21 | elapsed:    1.9s remaining:    1.7s\n",
            "[Parallel(n_jobs=-1)]: Done  21 out of  21 | elapsed:    3.3s finished\n",
            "[Parallel(n_jobs=-1)]: Using backend LokyBackend with 4 concurrent workers.\n"
          ]
        },
        {
          "name": "stdout",
          "output_type": "stream",
          "text": [
            "[learning_curve] Training set sizes: [144 160 176 192 208 224 240]\n"
          ]
        },
        {
          "name": "stderr",
          "output_type": "stream",
          "text": [
            "[Parallel(n_jobs=-1)]: Done  11 out of  21 | elapsed:    0.3s remaining:    0.3s\n",
            "[Parallel(n_jobs=-1)]: Done  21 out of  21 | elapsed:    0.6s finished\n",
            "[Parallel(n_jobs=-1)]: Using backend LokyBackend with 4 concurrent workers.\n"
          ]
        },
        {
          "name": "stdout",
          "output_type": "stream",
          "text": [
            "[learning_curve] Training set sizes: [144 160 176 192 208 224 240]\n"
          ]
        },
        {
          "name": "stderr",
          "output_type": "stream",
          "text": [
            "[Parallel(n_jobs=-1)]: Done  11 out of  21 | elapsed:  1.1min remaining:   57.8s\n",
            "[Parallel(n_jobs=-1)]: Done  21 out of  21 | elapsed:  2.0min finished\n",
            "[Parallel(n_jobs=-1)]: Using backend LokyBackend with 4 concurrent workers.\n"
          ]
        },
        {
          "name": "stdout",
          "output_type": "stream",
          "text": [
            "[learning_curve] Training set sizes: [144 160 176 192 208 224 240]\n"
          ]
        },
        {
          "name": "stderr",
          "output_type": "stream",
          "text": [
            "[Parallel(n_jobs=-1)]: Done  11 out of  21 | elapsed:    1.9s remaining:    1.8s\n",
            "[Parallel(n_jobs=-1)]: Done  21 out of  21 | elapsed:    3.5s finished\n"
          ]
        },
        {
          "data": {
            "image/png": "[encoded data removed]",
            "text/plain": [
              "<Figure size 1440x1080 with 6 Axes>"
            ]
          },
          "metadata": {
            "needs_background": "light"
          },
          "output_type": "display_data"
        }
      ],
      "source": [
        "fig, axes = plt.subplots(2, 3, figsize=(20, 15))\n",
        "ind_sub = list(product(range(3), repeat=2))\n",
        "ts = np.linspace(0.6, 1, 7)\n",
        "\n",
        "for i, item in enumerate(new_model.items()):\n",
        "    name, model = item\n",
        "    title = f'Learning curve for {name}'\n",
        "    train_sz, train_score, test_score = learning_curve(model, X_train, y_train,\n",
        "                                                       cv=3, random_state=42,\n",
        "                                                       scoring=scoring['accuracy'],\n",
        "                                                       train_sizes=ts,\n",
        "                                                       n_jobs=-1, verbose=2)\n",
        "    x, y = train_sz, np.mean(train_score, axis=1)\n",
        "    axes[ind_sub[i][0], ind_sub[i][1]].plot(x, y, label='train')\n",
        "    x, y = train_sz, np.mean(test_score, axis=1)\n",
        "    axes[ind_sub[i][0], ind_sub[i][1]].plot(x, y, label='test')\n",
        "    axes[ind_sub[i][0], ind_sub[i][1]].legend()\n",
        "    axes[ind_sub[i][0], ind_sub[i][1]].set_title(title)"
      ]
    },
    {
      "cell_type": "markdown",
      "metadata": {
        "id": "vp9GsGfnaYwh"
      },
      "source": [
        "Видим, что все плохо. Модели все еще переобучены. Надо пробовать как-то иначе выставлять гиперпараметры. "
      ]
    },
    {
      "cell_type": "markdown",
      "metadata": {
        "id": "OjIcHPq2aYwh"
      },
      "source": [
        "### 4. Сделайте замеры времени обучения для каждой модели. Сделайте вывод о сравнительной производительности моделей.\n"
      ]
    },
    {
      "cell_type": "markdown",
      "metadata": {
        "id": "iIynUqYBaYwi"
      },
      "source": [
        "Сделаем замеры на обучении исходных моделей, до подбора параметров."
      ]
    },
    {
      "cell_type": "code",
      "execution_count": null,
      "metadata": {
        "id": "rWcL59Q5aYwi",
        "outputId": "98750a45-d0ea-4e36-ce86-a02b1333bb40"
      },
      "outputs": [
        {
          "name": "stderr",
          "output_type": "stream",
          "text": [
            "/Users/tatyana/opt/anaconda3/lib/python3.8/site-packages/sklearn/neural_network/_multilayer_perceptron.py:692: ConvergenceWarning: Stochastic Optimizer: Maximum iterations (600) reached and the optimization hasn't converged yet.\n",
            "  warnings.warn(\n"
          ]
        }
      ],
      "source": [
        "time_fit = dict()\n",
        "for name_model, model in models.items():\n",
        "    t1 = time.time()\n",
        "    model.fit(X_train, y_train)\n",
        "    t2 = time.time()\n",
        "    time_fit[name_model] = t2 - t1"
      ]
    },
    {
      "cell_type": "code",
      "execution_count": null,
      "metadata": {
        "id": "iTZ8VoD6aYwi",
        "outputId": "f195178b-0027-4bab-a3ab-84c9e48ab0bc"
      },
      "outputs": [
        {
          "data": {
            "text/plain": [
              "{'LogisticRegression': 3.4866859912872314,\n",
              " 'SVC_poly': 0.3064389228820801,\n",
              " 'SVC_g': 0.4084327220916748,\n",
              " 'KNeighborsClassifier': 0.0016016960144042969,\n",
              " 'MLP': 9.609920024871826,\n",
              " 'RandomForestClassifier': 1.1974279880523682}"
            ]
          },
          "execution_count": 101,
          "metadata": {},
          "output_type": "execute_result"
        }
      ],
      "source": [
        "time_fit"
      ]
    },
    {
      "cell_type": "code",
      "execution_count": null,
      "metadata": {
        "id": "kcR23YI5aYwi",
        "outputId": "42d07624-f2c3-4a42-f301-558eb55596a7"
      },
      "outputs": [
        {
          "data": {
            "text/html": [
              "<div>\n",
              "<style scoped>\n",
              "    .dataframe tbody tr th:only-of-type {\n",
              "        vertical-align: middle;\n",
              "    }\n",
              "\n",
              "    .dataframe tbody tr th {\n",
              "        vertical-align: top;\n",
              "    }\n",
              "\n",
              "    .dataframe thead th {\n",
              "        text-align: right;\n",
              "    }\n",
              "</style>\n",
              "<table border=\"1\" class=\"dataframe\">\n",
              "  <thead>\n",
              "    <tr style=\"text-align: right;\">\n",
              "      <th></th>\n",
              "      <th>time</th>\n",
              "    </tr>\n",
              "  </thead>\n",
              "  <tbody>\n",
              "    <tr>\n",
              "      <th>LogisticRegression</th>\n",
              "      <td>3.486686</td>\n",
              "    </tr>\n",
              "    <tr>\n",
              "      <th>SVC_poly</th>\n",
              "      <td>0.306439</td>\n",
              "    </tr>\n",
              "    <tr>\n",
              "      <th>SVC_g</th>\n",
              "      <td>0.408433</td>\n",
              "    </tr>\n",
              "    <tr>\n",
              "      <th>KNeighborsClassifier</th>\n",
              "      <td>0.001602</td>\n",
              "    </tr>\n",
              "    <tr>\n",
              "      <th>MLP</th>\n",
              "      <td>9.609920</td>\n",
              "    </tr>\n",
              "    <tr>\n",
              "      <th>RandomForestClassifier</th>\n",
              "      <td>1.197428</td>\n",
              "    </tr>\n",
              "  </tbody>\n",
              "</table>\n",
              "</div>"
            ],
            "text/plain": [
              "                            time\n",
              "LogisticRegression      3.486686\n",
              "SVC_poly                0.306439\n",
              "SVC_g                   0.408433\n",
              "KNeighborsClassifier    0.001602\n",
              "MLP                     9.609920\n",
              "RandomForestClassifier  1.197428"
            ]
          },
          "execution_count": 105,
          "metadata": {},
          "output_type": "execute_result"
        }
      ],
      "source": [
        "pd.DataFrame.from_dict(time_fit, orient='index', columns=['time'])"
      ]
    },
    {
      "cell_type": "markdown",
      "metadata": {
        "id": "HacrJUrWaYwi"
      },
      "source": [
        "Быстрее всего обучился KNN, дольше всего обучался MLP. Причем MLP не успел дообучиться и покажет плохое качество на тесте. Из таблицы качества res мы видели, что логистическая регрессия и SVM с полиномиальным ядром показывали сравнимо одинаковое качество. Вот только логистическая регрессия более, чем в 3 раза дольше обучается. Возможно, имеет смысл отдать предпочтение SVC_poly"
      ]
    },
    {
      "cell_type": "markdown",
      "metadata": {
        "id": "2KodUxTsaYwi"
      },
      "source": [
        "### Выведите несколько изображений на экран используя инструментарий библиотеки matplotlib, добавив над изображениями надпись, содержащую информацию о названии предсказанного и правильного классов, а также выделив изображение зеленой рамкой, если класс предсказан верно, и красной рамкой в противном случае."
      ]
    },
    {
      "cell_type": "code",
      "execution_count": null,
      "metadata": {
        "id": "ipmjSfZbaYwj"
      },
      "outputs": [],
      "source": [
        "def plot_framed_face(y_true, y_hat, i):\n",
        "    fig, axes = plt.subplots()\n",
        "    if y_true[i] == y_hat[i]:\n",
        "        col = 'green'\n",
        "    else:\n",
        "        col = 'red'\n",
        "    fig.patch.set_linewidth(10)\n",
        "    fig.patch.set_edgecolor(col)\n",
        "    plt.imshow(faces.images[i], cmap=plt.cm.bone)\n",
        "    plt.title(f'True: {y_true[i]}\\nPredict: {y_hat[i]}')"
      ]
    },
    {
      "cell_type": "code",
      "execution_count": null,
      "metadata": {
        "id": "zWS9YGr5aYwj"
      },
      "outputs": [],
      "source": [
        "cls = SVC(kernel='poly', random_state=42).fit(X_train, y_train)"
      ]
    },
    {
      "cell_type": "code",
      "execution_count": null,
      "metadata": {
        "id": "oe3G_7LoaYwj"
      },
      "outputs": [],
      "source": [
        "y_hat = cls.predict(X_test)"
      ]
    },
    {
      "cell_type": "code",
      "execution_count": null,
      "metadata": {
        "id": "ggEcvs9JaYwj",
        "outputId": "4fd244d3-8c39-4f2c-c701-2ed80d585360"
      },
      "outputs": [
        {
          "data": {
            "text/plain": [
              "array([20, 28,  3, 21,  9,  8, 32,  9, 26, 12,  0, 36,  5,  7, 13,  4, 27,\n",
              "       37, 23, 38,  7,  1, 39, 27,  0, 39, 11, 22, 26, 10, 39, 19, 26,  5,\n",
              "       23, 11, 11, 34, 15, 14])"
            ]
          },
          "execution_count": 188,
          "metadata": {},
          "output_type": "execute_result"
        }
      ],
      "source": [
        "y_hat"
      ]
    },
    {
      "cell_type": "code",
      "execution_count": null,
      "metadata": {
        "id": "2C8oqHCvaYwj",
        "outputId": "48c9caf0-c6d6-43b9-bc0f-f4788e377e6c"
      },
      "outputs": [
        {
          "data": {
            "text/plain": [
              "array([20, 28,  3, 21,  9,  8, 32,  9, 26, 12,  0, 36,  5,  7, 13,  4, 27,\n",
              "       37, 23, 38,  7,  1, 39, 27,  0, 39, 11, 22, 26, 10, 39, 19, 26,  5,\n",
              "       23, 11, 11, 34, 15, 14])"
            ]
          },
          "execution_count": 189,
          "metadata": {},
          "output_type": "execute_result"
        }
      ],
      "source": [
        "y_test"
      ]
    },
    {
      "cell_type": "code",
      "execution_count": null,
      "metadata": {
        "id": "8R0mPrnzaYwj",
        "outputId": "54a6c4e6-38ff-46ee-eaee-e284101f8277"
      },
      "outputs": [
        {
          "data": {
            "text/plain": [
              "1.0"
            ]
          },
          "execution_count": 190,
          "metadata": {},
          "output_type": "execute_result"
        }
      ],
      "source": [
        "f1_score(y_test, y_hat, average='macro')  # ну... мы все предсказали верно... "
      ]
    },
    {
      "cell_type": "code",
      "execution_count": null,
      "metadata": {
        "id": "NHxJM8WIaYwk"
      },
      "outputs": [],
      "source": [
        "random_faces_ind = random.choices(range(len(y_hat)), k=3)"
      ]
    },
    {
      "cell_type": "code",
      "execution_count": null,
      "metadata": {
        "id": "zY_EkCZXaYwk",
        "outputId": "391370fa-55de-4061-c26e-330da14255bc"
      },
      "outputs": [
        {
          "data": {
            "text/plain": [
              "[38, 13, 3]"
            ]
          },
          "execution_count": 192,
          "metadata": {},
          "output_type": "execute_result"
        }
      ],
      "source": [
        "random_faces_ind"
      ]
    },
    {
      "cell_type": "code",
      "execution_count": null,
      "metadata": {
        "id": "UPfCIWO4aYwk",
        "outputId": "41683a43-e715-438d-a238-1913e2ced3e6"
      },
      "outputs": [
        {
          "data": {
            "image/png": "[encoded data removed]",
            "text/plain": [
              "<Figure size 432x288 with 1 Axes>"
            ]
          },
          "metadata": {
            "needs_background": "light"
          },
          "output_type": "display_data"
        },
        {
          "data": {
            "image/png": "[encoded data removed]",
            "text/plain": [
              "<Figure size 432x288 with 1 Axes>"
            ]
          },
          "metadata": {
            "needs_background": "light"
          },
          "output_type": "display_data"
        },
        {
          "data": {
            "image/png": "[encoded data removed]",
            "text/plain": [
              "<Figure size 432x288 with 1 Axes>"
            ]
          },
          "metadata": {
            "needs_background": "light"
          },
          "output_type": "display_data"
        }
      ],
      "source": [
        "for ind in random_faces_ind:\n",
        "    plot_framed_face(y_test, y_hat, ind)"
      ]
    },
    {
      "cell_type": "code",
      "execution_count": null,
      "metadata": {
        "id": "SjdQQZroaYwk"
      },
      "outputs": [],
      "source": [
        ""
      ]
    },
    {
      "cell_type": "code",
      "execution_count": null,
      "metadata": {
        "id": "SgWb_M6GaYwk"
      },
      "outputs": [],
      "source": [
        ""
      ]
    }
  ],
  "metadata": {
    "colab": {
      "collapsed_sections": [
        "v_v6tSfeYn8c"
      ],
      "name": "06_классификация_изображений_Самофалова_Татьяна_ПМ19-3.ipynb",
      "provenance": []
    },
    "kernelspec": {
      "display_name": "Python 3",
      "language": "python",
      "name": "python3"
    },
    "language_info": {
      "codemirror_mode": {
        "name": "ipython",
        "version": 3
      },
      "file_extension": ".py",
      "mimetype": "text/x-python",
      "name": "python",
      "nbconvert_exporter": "python",
      "pygments_lexer": "ipython3",
      "version": "3.8.8"
    }
  },
  "nbformat": 4,
  "nbformat_minor": 0
}