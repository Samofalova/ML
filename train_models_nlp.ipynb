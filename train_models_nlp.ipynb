{
  "cells": [
    {
      "cell_type": "code",
      "execution_count": null,
      "id": "cf496341",
      "metadata": {
        "id": "cf496341"
      },
      "outputs": [],
      "source": [
        "import re\n",
        "import time\n",
        "import csv\n",
        "from itertools import product\n",
        "import pandas as pd\n",
        "import numpy as np\n",
        "import seaborn as sns\n",
        "import matplotlib.pyplot as plt\n",
        "%matplotlib inline"
      ]
    },
    {
      "cell_type": "code",
      "execution_count": null,
      "id": "b48401b1",
      "metadata": {
        "id": "b48401b1"
      },
      "outputs": [],
      "source": [
        "from sklearn.pipeline import Pipeline\n",
        "from sklearn.preprocessing import FunctionTransformer\n",
        "from sklearn.model_selection import (train_test_split, cross_validate,\n",
        "                                     learning_curve, GridSearchCV, KFold)\n",
        "from sklearn.metrics import (make_scorer, accuracy_score,\n",
        "                             confusion_matrix, f1_score,\n",
        "                             precision_score, recall_score,\n",
        "                             roc_auc_score)\n",
        "from sklearn.feature_extraction.text import (CountVectorizer,\n",
        "                                             TfidfVectorizer,\n",
        "                                             HashingVectorizer)\n",
        "from sklearn.decomposition import TruncatedSVD"
      ]
    },
    {
      "cell_type": "code",
      "execution_count": null,
      "id": "26301fce",
      "metadata": {
        "id": "26301fce"
      },
      "outputs": [],
      "source": [
        "from sklearn.svm import SVC\n",
        "from sklearn.neural_network import MLPClassifier\n",
        "from sklearn.neighbors import KNeighborsClassifier\n",
        "from sklearn.ensemble import RandomForestClassifier\n",
        "from sklearn.linear_model import LogisticRegression\n",
        "from sklearn.naive_bayes import MultinomialNB"
      ]
    },
    {
      "cell_type": "code",
      "execution_count": null,
      "id": "5fd6c14f",
      "metadata": {
        "id": "5fd6c14f"
      },
      "outputs": [],
      "source": [
        "import fasttext"
      ]
    },
    {
      "cell_type": "markdown",
      "id": "57445ce9",
      "metadata": {
        "id": "57445ce9"
      },
      "source": [
        "**На мой взгляд, решение тестового задания заключается не только в предоставлении лучшей модели и предсказаний, но и демонстрация поиска этой самой модели – рассуждения, попытки. По этой причине решила оставить большую часть из \"черновика\". Правда я понимаю, что силы и время проверяющих имеют предел. Поэтому, если хочется посмотреть на финальный результат, то переходите к разделу \"Обучение и предсказание\".**"
      ]
    },
    {
      "cell_type": "markdown",
      "id": "44a39589",
      "metadata": {
        "id": "44a39589"
      },
      "source": [
        "*Что входило в перебор:*\n",
        "\n",
        "* Предобработка текста (лемматизация, пунктуация)\n",
        "* Подбор векторизации (CountVectorizer, HashingVectorizer, TfidfVectorizer, SVD, FastText)\n",
        "* Модели (LogisticRegression, SVC(kernel='linear'), SVC(kernel='rbf'), KNeighborsClassifier, MLP, RandomForestClassifier, MultinomialNB, FastText, XGBClassifier, StackingClassifier с различными комбинациями)\n",
        "          \n",
        "*Я рассмотрела практически все возможные комбинации (некоторая часть перебора осталась в черновом варианте ноутбука), пробовала подбирать гиперпараметры. В финальное решение, которое показало наилучший результат, попало векторное представление текста с помощью FastText и SVC с гауссовым ядром.*"
      ]
    },
    {
      "cell_type": "markdown",
      "id": "5ab21805",
      "metadata": {
        "id": "5ab21805"
      },
      "source": [
        "Предварительная обработка текста (создание файлов с чистыми данными в том числе) вынесена в отдельный ноутбук \"analysis_preprocessing\"."
      ]
    },
    {
      "cell_type": "code",
      "execution_count": null,
      "id": "79412fe0",
      "metadata": {
        "id": "79412fe0"
      },
      "outputs": [],
      "source": [
        "# Вспомогательные функции\n",
        "\n",
        "def get_pipe(model, vect, svd=False, dense_sparse=False):\n",
        "    \"\"\"\n",
        "    Creates and returns a Pipeline.\n",
        "    Parameters\n",
        "    ----------\n",
        "    model : object\n",
        "        A model for approximating the data. It is assumed to be \n",
        "        a sklearn model.\n",
        "    vect : object\n",
        "        Convert the text into a feature vector.\n",
        "    svd : bool, default=False\n",
        "        Using SVD decomposition. \n",
        "    dense_sparse : bool, default=False\n",
        "        Applies to a sparse matrix.\n",
        "    \"\"\"\n",
        "    transformer = FunctionTransformer(lambda x: np.asarray(x.todense()),\n",
        "                                      accept_sparse=True)\n",
        "    base_pipe = [(\"vect\", vect), (\"cls\", model)]\n",
        "    if svd:\n",
        "        base_pipe.insert(1, ('svd', TruncatedSVD()))\n",
        "    if dense_sparse:\n",
        "        base_pipe.insert(-1, ('dens', transformer))\n",
        "    return Pipeline(base_pipe)\n",
        "\n",
        "\n",
        "def highlight_max(s, props=''):\n",
        "    \"\"\"\n",
        "    Highlights the maximum values in colour.\n",
        "    \"\"\"\n",
        "    return np.where(s == np.nanmax(s.values), props, '')\n",
        "\n",
        "\n",
        "def colorize_df(pv):\n",
        "    \"\"\"\n",
        "    Highlights the maximum values in colour for the column.\n",
        "    Highlights the cell in the table with the colour of the maximum value.\n",
        "    \"\"\"\n",
        "    pv_c = pv.style.apply(highlight_max, props='color:green', axis=0)\\\n",
        "             .apply(highlight_max, props='color:white;background-color:green',\n",
        "                    axis=None)\n",
        "    return pv_c\n",
        "\n",
        "\n",
        "def plot_learning_curve(vect):\n",
        "    if type(vect) is type(HashingVectorizer()):\n",
        "        fig, axes = plt.subplots(2, 3, figsize=(20, 15))\n",
        "    else: \n",
        "        fig, axes = plt.subplots(3, 3, figsize=(20, 15))\n",
        "    ind_sub = list(product(range(3), repeat=2))\n",
        "    ts = np.linspace(0.6, 1, 7)\n",
        "\n",
        "    for i, item in enumerate(models.items()):\n",
        "        name, model = item\n",
        "        title = f'Learning Curves ({name})'\n",
        "        if name == 'MultinomialNB' and type(vect) is type(HashingVectorizer()):\n",
        "            continue\n",
        "        else:\n",
        "            pipe = get_pipe(model, vect=vect)\n",
        "        train_sz, train_score, test_score = learning_curve(pipe, X_train, y_train, \n",
        "                                                           cv=5, random_state=42,\n",
        "                                                           scoring=scoring['f1'],\n",
        "                                                           train_sizes=ts,\n",
        "                                                           n_jobs=-1)\n",
        "        x, y = train_sz, np.mean(train_score, axis=1)\n",
        "        axes[ind_sub[i][0], ind_sub[i][1]].plot(x, y, label='train')\n",
        "        x, y = train_sz, np.mean(test_score, axis=1)\n",
        "        axes[ind_sub[i][0], ind_sub[i][1]].plot(x, y, label='test')\n",
        "        axes[ind_sub[i][0], ind_sub[i][1]].legend()\n",
        "        axes[ind_sub[i][0], ind_sub[i][1]].set_title(title)\n",
        "\n",
        "\n",
        "def convertdt_fasttext(y, x):\n",
        "    \"\"\"\n",
        "    Converting data into input format for FastText.\n",
        "    \"\"\"\n",
        "    ds = pd.DataFrame(y, columns=['is_fake'])\n",
        "    ds['is_fake'] = ds['is_fake'].apply(lambda x: f'__label__{x}')\n",
        "    ds['sent'] = x\n",
        "    return ds\n",
        "\n",
        "\n",
        "def save_ds(ds, name='train.txt'):\n",
        "    \"\"\"\n",
        "    Saving data for FastText.\n",
        "    \"\"\"\n",
        "    ds.to_csv(name, \n",
        "              index=False, \n",
        "              sep=' ',\n",
        "              header=None, \n",
        "              quoting=csv.QUOTE_NONE, \n",
        "              quotechar=\"\", \n",
        "              escapechar=\" \")\n",
        "\n",
        "\n",
        "def predict_convert(model, data, return_prob=False):\n",
        "    \"\"\"\n",
        "    Predicting and converting class labels for FastText.\n",
        "    \"\"\"\n",
        "    prob = []\n",
        "    label = []\n",
        "    for header in data:\n",
        "        l, p = model.predict(header)\n",
        "        label.append(int(l[0][-1]))\n",
        "        prob.append(p[0])\n",
        "    if return_prob:\n",
        "        return label, prob\n",
        "    return label"
      ]
    },
    {
      "cell_type": "code",
      "execution_count": null,
      "id": "8e5f8cec",
      "metadata": {
        "id": "8e5f8cec"
      },
      "outputs": [],
      "source": [
        "df = pd.read_csv(f'clean_data.csv')\n",
        "X, Y = df['title_new'].tolist(), df['is_fake']"
      ]
    },
    {
      "cell_type": "code",
      "execution_count": null,
      "id": "26e05bb7",
      "metadata": {
        "id": "26e05bb7"
      },
      "outputs": [],
      "source": [
        "X_train, X_test, y_train, y_test = train_test_split(X, Y, test_size=0.1,\n",
        "                                                    random_state=42)"
      ]
    },
    {
      "cell_type": "code",
      "execution_count": null,
      "id": "27d3e6f0",
      "metadata": {
        "id": "27d3e6f0",
        "outputId": "c733e73e-25c0-436e-8b04-5f17dd9d3ffe"
      },
      "outputs": [
        {
          "data": {
            "text/plain": [
              "(576, 5181)"
            ]
          },
          "execution_count": 111,
          "metadata": {},
          "output_type": "execute_result"
        }
      ],
      "source": [
        "len(y_test), len(y_train)"
      ]
    },
    {
      "cell_type": "code",
      "execution_count": null,
      "id": "28f0893a",
      "metadata": {
        "id": "28f0893a",
        "outputId": "3a375af1-935c-4eee-cd60-c1991834c36d"
      },
      "outputs": [
        {
          "data": {
            "text/plain": [
              "1    2603\n",
              "0    2578\n",
              "Name: is_fake, dtype: int64"
            ]
          },
          "execution_count": 112,
          "metadata": {},
          "output_type": "execute_result"
        }
      ],
      "source": [
        "y_train.value_counts()  # сбалансированная выборка"
      ]
    },
    {
      "cell_type": "code",
      "execution_count": null,
      "id": "fb718c22",
      "metadata": {
        "id": "fb718c22",
        "outputId": "5310265f-ef34-43d5-e685-c8c62d87d9f8"
      },
      "outputs": [
        {
          "data": {
            "text/plain": [
              "0    300\n",
              "1    276\n",
              "Name: is_fake, dtype: int64"
            ]
          },
          "execution_count": 113,
          "metadata": {},
          "output_type": "execute_result"
        }
      ],
      "source": [
        "y_test.value_counts()"
      ]
    },
    {
      "cell_type": "markdown",
      "id": "be05e47a",
      "metadata": {
        "id": "be05e47a"
      },
      "source": [
        "*Для начала хочется просто посмотреть, как себя покажут стандартные векторайзеры и алгоритмы классификации. Поэтому проведем исследование по основным на нашем наборе данных. Предположительно TF-IDF вместе с логистической регрессией, наивный байесовский классификатор должны сразу дать неплохие результаты. KNN и деревья (лес), скорее всего, дадут довольно низкий score для задачи классификации текста. Качество моделей, конечно, будем измерять на cross-validate, усредняя.*"
      ]
    },
    {
      "cell_type": "code",
      "execution_count": null,
      "id": "a3e46d2a",
      "metadata": {
        "id": "a3e46d2a"
      },
      "outputs": [],
      "source": [
        "models = {'LogisticRegression': LogisticRegression(random_state=42, n_jobs=2),\n",
        "          'SVC_lin': SVC(kernel='linear', random_state=42),\n",
        "          'SVC_g': SVC(kernel='rbf', random_state=42),\n",
        "          'KNeighborsClassifier': KNeighborsClassifier(n_jobs=2),\n",
        "          'MLP': MLPClassifier(max_iter=800, random_state=42),\n",
        "          'RandomForestClassifier': RandomForestClassifier(random_state=42,\n",
        "                                                           n_jobs=2),\n",
        "          'MultinomialNB': MultinomialNB()}"
      ]
    },
    {
      "cell_type": "code",
      "execution_count": null,
      "id": "0f699fb3",
      "metadata": {
        "id": "0f699fb3"
      },
      "outputs": [],
      "source": [
        "vectorizers = {'CountVectorizer': CountVectorizer(lowercase=False),\n",
        "               'TfidfVectorizer': TfidfVectorizer(lowercase=False),\n",
        "               'HashingVectorizer': HashingVectorizer(lowercase=False,\n",
        "                                                      n_features=20000)}"
      ]
    },
    {
      "cell_type": "code",
      "execution_count": null,
      "id": "23b49766",
      "metadata": {
        "id": "23b49766"
      },
      "outputs": [],
      "source": [
        "scoring = {'accuracy' : make_scorer(accuracy_score), \n",
        "           'precision' : make_scorer(precision_score),\n",
        "           'recall' : make_scorer(recall_score),\n",
        "           'f1': make_scorer(f1_score)}"
      ]
    },
    {
      "cell_type": "code",
      "execution_count": null,
      "id": "e6c28472",
      "metadata": {
        "scrolled": true,
        "id": "e6c28472",
        "outputId": "0d0f126e-5ec9-4b42-94fa-d10158600648"
      },
      "outputs": [
        {
          "name": "stderr",
          "output_type": "stream",
          "text": [
            "[Parallel(n_jobs=-1)]: Using backend LokyBackend with 4 concurrent workers.\n",
            "[Parallel(n_jobs=-1)]: Done   5 out of   5 | elapsed:    3.2s finished\n",
            "[Parallel(n_jobs=-1)]: Using backend LokyBackend with 4 concurrent workers.\n",
            "[Parallel(n_jobs=-1)]: Done   5 out of   5 | elapsed:    0.8s finished\n",
            "[Parallel(n_jobs=-1)]: Using backend LokyBackend with 4 concurrent workers.\n",
            "[Parallel(n_jobs=-1)]: Done   5 out of   5 | elapsed:    0.4s finished\n",
            "[Parallel(n_jobs=-1)]: Using backend LokyBackend with 4 concurrent workers.\n",
            "[Parallel(n_jobs=-1)]: Done   5 out of   5 | elapsed:    0.8s finished\n",
            "[Parallel(n_jobs=-1)]: Using backend LokyBackend with 4 concurrent workers.\n",
            "[Parallel(n_jobs=-1)]: Done   5 out of   5 | elapsed:    0.5s finished\n",
            "[Parallel(n_jobs=-1)]: Using backend LokyBackend with 4 concurrent workers.\n",
            "[Parallel(n_jobs=-1)]: Done   5 out of   5 | elapsed:    0.7s finished\n",
            "[Parallel(n_jobs=-1)]: Using backend LokyBackend with 4 concurrent workers.\n",
            "[Parallel(n_jobs=-1)]: Done   5 out of   5 | elapsed:    3.8s finished\n",
            "[Parallel(n_jobs=-1)]: Using backend LokyBackend with 4 concurrent workers.\n",
            "[Parallel(n_jobs=-1)]: Done   5 out of   5 | elapsed:    6.1s finished\n",
            "[Parallel(n_jobs=-1)]: Using backend LokyBackend with 4 concurrent workers.\n",
            "[Parallel(n_jobs=-1)]: Done   5 out of   5 | elapsed:    3.0s finished\n",
            "[Parallel(n_jobs=-1)]: Using backend LokyBackend with 4 concurrent workers.\n",
            "[Parallel(n_jobs=-1)]: Done   5 out of   5 | elapsed:    5.8s finished\n",
            "[Parallel(n_jobs=-1)]: Using backend LokyBackend with 4 concurrent workers.\n",
            "[Parallel(n_jobs=-1)]: Done   5 out of   5 | elapsed:    2.9s finished\n",
            "[Parallel(n_jobs=-1)]: Using backend LokyBackend with 4 concurrent workers.\n",
            "[Parallel(n_jobs=-1)]: Done   5 out of   5 | elapsed:    5.0s finished\n",
            "[Parallel(n_jobs=-1)]: Using backend LokyBackend with 4 concurrent workers.\n",
            "[Parallel(n_jobs=-1)]: Done   5 out of   5 | elapsed:    4.9s finished\n",
            "[Parallel(n_jobs=-1)]: Using backend LokyBackend with 4 concurrent workers.\n",
            "[Parallel(n_jobs=-1)]: Done   5 out of   5 | elapsed:    5.7s finished\n",
            "[Parallel(n_jobs=-1)]: Using backend LokyBackend with 4 concurrent workers.\n",
            "[Parallel(n_jobs=-1)]: Done   5 out of   5 | elapsed:    3.7s finished\n",
            "[Parallel(n_jobs=-1)]: Using backend LokyBackend with 4 concurrent workers.\n",
            "[Parallel(n_jobs=-1)]: Done   5 out of   5 | elapsed:    6.5s finished\n",
            "[Parallel(n_jobs=-1)]: Using backend LokyBackend with 4 concurrent workers.\n",
            "[Parallel(n_jobs=-1)]: Done   5 out of   5 | elapsed:    4.4s finished\n",
            "[Parallel(n_jobs=-1)]: Using backend LokyBackend with 4 concurrent workers.\n",
            "[Parallel(n_jobs=-1)]: Done   5 out of   5 | elapsed:    8.1s finished\n",
            "[Parallel(n_jobs=-1)]: Using backend LokyBackend with 4 concurrent workers.\n",
            "[Parallel(n_jobs=-1)]: Done   5 out of   5 | elapsed:    0.5s finished\n",
            "[Parallel(n_jobs=-1)]: Using backend LokyBackend with 4 concurrent workers.\n",
            "[Parallel(n_jobs=-1)]: Done   5 out of   5 | elapsed:    0.8s finished\n",
            "[Parallel(n_jobs=-1)]: Using backend LokyBackend with 4 concurrent workers.\n",
            "[Parallel(n_jobs=-1)]: Done   5 out of   5 | elapsed:    0.4s finished\n",
            "[Parallel(n_jobs=-1)]: Using backend LokyBackend with 4 concurrent workers.\n",
            "[Parallel(n_jobs=-1)]: Done   5 out of   5 | elapsed:    0.8s finished\n",
            "[Parallel(n_jobs=-1)]: Using backend LokyBackend with 4 concurrent workers.\n",
            "[Parallel(n_jobs=-1)]: Done   5 out of   5 | elapsed:    0.3s finished\n",
            "[Parallel(n_jobs=-1)]: Using backend LokyBackend with 4 concurrent workers.\n",
            "[Parallel(n_jobs=-1)]: Done   5 out of   5 | elapsed:    0.7s finished\n",
            "[Parallel(n_jobs=-1)]: Using backend LokyBackend with 4 concurrent workers.\n",
            "[Parallel(n_jobs=-1)]: Done   5 out of   5 | elapsed:   11.5s finished\n",
            "[Parallel(n_jobs=-1)]: Using backend LokyBackend with 4 concurrent workers.\n",
            "[Parallel(n_jobs=-1)]: Done   5 out of   5 | elapsed:  2.2min finished\n",
            "[Parallel(n_jobs=-1)]: Using backend LokyBackend with 4 concurrent workers.\n",
            "[Parallel(n_jobs=-1)]: Done   5 out of   5 | elapsed:    8.9s finished\n",
            "[Parallel(n_jobs=-1)]: Using backend LokyBackend with 4 concurrent workers.\n",
            "[Parallel(n_jobs=-1)]: Done   5 out of   5 | elapsed:  2.6min finished\n",
            "[Parallel(n_jobs=-1)]: Using backend LokyBackend with 4 concurrent workers.\n",
            "[Parallel(n_jobs=-1)]: Done   5 out of   5 | elapsed:   17.0s finished\n",
            "[Parallel(n_jobs=-1)]: Using backend LokyBackend with 4 concurrent workers.\n",
            "[Parallel(n_jobs=-1)]: Done   5 out of   5 | elapsed:  5.0min finished\n",
            "[Parallel(n_jobs=-1)]: Using backend LokyBackend with 4 concurrent workers.\n",
            "[Parallel(n_jobs=-1)]: Done   5 out of   5 | elapsed:    1.7s finished\n",
            "[Parallel(n_jobs=-1)]: Using backend LokyBackend with 4 concurrent workers.\n",
            "[Parallel(n_jobs=-1)]: Done   5 out of   5 | elapsed:    5.5s finished\n",
            "[Parallel(n_jobs=-1)]: Using backend LokyBackend with 4 concurrent workers.\n",
            "[Parallel(n_jobs=-1)]: Done   5 out of   5 | elapsed:    1.7s finished\n",
            "[Parallel(n_jobs=-1)]: Using backend LokyBackend with 4 concurrent workers.\n",
            "[Parallel(n_jobs=-1)]: Done   5 out of   5 | elapsed:    5.4s finished\n",
            "[Parallel(n_jobs=-1)]: Using backend LokyBackend with 4 concurrent workers.\n",
            "[Parallel(n_jobs=-1)]: Done   5 out of   5 | elapsed:    1.6s finished\n",
            "[Parallel(n_jobs=-1)]: Using backend LokyBackend with 4 concurrent workers.\n",
            "[Parallel(n_jobs=-1)]: Done   5 out of   5 | elapsed:   17.8s finished\n",
            "[Parallel(n_jobs=-1)]: Using backend LokyBackend with 4 concurrent workers.\n",
            "[Parallel(n_jobs=-1)]: Done   5 out of   5 | elapsed:    0.3s finished\n",
            "[Parallel(n_jobs=-1)]: Using backend LokyBackend with 4 concurrent workers.\n",
            "[Parallel(n_jobs=-1)]: Done   5 out of   5 | elapsed:    0.3s finished\n"
          ]
        }
      ],
      "source": [
        "res_metrics = dict()\n",
        "for name_model, model in models.items():\n",
        "    for name_vect, vect in vectorizers.items():\n",
        "        for svd in [True, False]:\n",
        "            # svd и HashingVectorizer приводят к ошибкам в MultinomialNB\n",
        "            # из-за отрицательных значений после векторного представления или разложения\n",
        "            if (name_vect == 'HashingVectorizer' or svd) and \\\n",
        "                name_model == 'MultinomialNB':  \n",
        "                    continue\n",
        "            pipe = get_pipe(model, vect, svd)\n",
        "            name_for_res = (name_model, name_vect, svd)\n",
        "            res_metrics[name_for_res] = cross_validate(pipe, X_train, y_train, verbose=2,\n",
        "                                                       n_jobs=-1, scoring=scoring, cv=5)"
      ]
    },
    {
      "cell_type": "code",
      "execution_count": null,
      "id": "7b2abd20",
      "metadata": {
        "id": "7b2abd20"
      },
      "outputs": [],
      "source": [
        "analysis = []\n",
        "for clf, met in res_metrics.items():\n",
        "    analysis.append([])\n",
        "    analysis[-1].extend(clf)\n",
        "    analysis[-1].extend([np.mean(met['test_accuracy']),\n",
        "                         np.mean(met['test_precision']),\n",
        "                         np.mean(met['test_recall']),\n",
        "                         np.mean(met['test_f1'])])"
      ]
    },
    {
      "cell_type": "code",
      "execution_count": null,
      "id": "9fb09306",
      "metadata": {
        "id": "9fb09306"
      },
      "outputs": [],
      "source": [
        "col = ['model', 'vect', 'svd', 'accuracy', 'precision', 'recall', 'f1']\n",
        "res = pd.DataFrame(analysis, columns=col)"
      ]
    },
    {
      "cell_type": "code",
      "execution_count": null,
      "id": "08de5305",
      "metadata": {
        "id": "08de5305",
        "outputId": "8d20bb24-0bf1-4803-8f58-ce0a4e8ebea1"
      },
      "outputs": [
        {
          "data": {
            "text/html": [
              "<div>\n",
              "<style scoped>\n",
              "    .dataframe tbody tr th:only-of-type {\n",
              "        vertical-align: middle;\n",
              "    }\n",
              "\n",
              "    .dataframe tbody tr th {\n",
              "        vertical-align: top;\n",
              "    }\n",
              "\n",
              "    .dataframe thead th {\n",
              "        text-align: right;\n",
              "    }\n",
              "</style>\n",
              "<table border=\"1\" class=\"dataframe\">\n",
              "  <thead>\n",
              "    <tr style=\"text-align: right;\">\n",
              "      <th></th>\n",
              "      <th>model</th>\n",
              "      <th>vect</th>\n",
              "      <th>svd</th>\n",
              "      <th>accuracy</th>\n",
              "      <th>precision</th>\n",
              "      <th>recall</th>\n",
              "      <th>f1</th>\n",
              "    </tr>\n",
              "  </thead>\n",
              "  <tbody>\n",
              "    <tr>\n",
              "      <th>0</th>\n",
              "      <td>LogisticRegression</td>\n",
              "      <td>CountVectorizer</td>\n",
              "      <td>True</td>\n",
              "      <td>0.554334</td>\n",
              "      <td>0.583965</td>\n",
              "      <td>0.394166</td>\n",
              "      <td>0.470439</td>\n",
              "    </tr>\n",
              "    <tr>\n",
              "      <th>1</th>\n",
              "      <td>LogisticRegression</td>\n",
              "      <td>CountVectorizer</td>\n",
              "      <td>False</td>\n",
              "      <td>0.824553</td>\n",
              "      <td>0.869320</td>\n",
              "      <td>0.766428</td>\n",
              "      <td>0.814423</td>\n",
              "    </tr>\n",
              "    <tr>\n",
              "      <th>2</th>\n",
              "      <td>LogisticRegression</td>\n",
              "      <td>TfidfVectorizer</td>\n",
              "      <td>True</td>\n",
              "      <td>0.567848</td>\n",
              "      <td>0.578922</td>\n",
              "      <td>0.514041</td>\n",
              "      <td>0.544279</td>\n",
              "    </tr>\n",
              "    <tr>\n",
              "      <th>3</th>\n",
              "      <td>LogisticRegression</td>\n",
              "      <td>TfidfVectorizer</td>\n",
              "      <td>False</td>\n",
              "      <td>0.811431</td>\n",
              "      <td>0.797071</td>\n",
              "      <td>0.838650</td>\n",
              "      <td>0.817161</td>\n",
              "    </tr>\n",
              "    <tr>\n",
              "      <th>4</th>\n",
              "      <td>LogisticRegression</td>\n",
              "      <td>HashingVectorizer</td>\n",
              "      <td>True</td>\n",
              "      <td>0.557230</td>\n",
              "      <td>0.580587</td>\n",
              "      <td>0.428362</td>\n",
              "      <td>0.492618</td>\n",
              "    </tr>\n",
              "    <tr>\n",
              "      <th>5</th>\n",
              "      <td>LogisticRegression</td>\n",
              "      <td>HashingVectorizer</td>\n",
              "      <td>False</td>\n",
              "      <td>0.783443</td>\n",
              "      <td>0.795316</td>\n",
              "      <td>0.766808</td>\n",
              "      <td>0.780722</td>\n",
              "    </tr>\n",
              "    <tr>\n",
              "      <th>6</th>\n",
              "      <td>SVC_lin</td>\n",
              "      <td>CountVectorizer</td>\n",
              "      <td>True</td>\n",
              "      <td>0.548351</td>\n",
              "      <td>0.584661</td>\n",
              "      <td>0.352291</td>\n",
              "      <td>0.439226</td>\n",
              "    </tr>\n",
              "    <tr>\n",
              "      <th>7</th>\n",
              "      <td>SVC_lin</td>\n",
              "      <td>CountVectorizer</td>\n",
              "      <td>False</td>\n",
              "      <td>0.818957</td>\n",
              "      <td>0.867242</td>\n",
              "      <td>0.756054</td>\n",
              "      <td>0.807562</td>\n",
              "    </tr>\n",
              "    <tr>\n",
              "      <th>8</th>\n",
              "      <td>SVC_lin</td>\n",
              "      <td>TfidfVectorizer</td>\n",
              "      <td>True</td>\n",
              "      <td>0.542367</td>\n",
              "      <td>0.576839</td>\n",
              "      <td>0.337699</td>\n",
              "      <td>0.425490</td>\n",
              "    </tr>\n",
              "    <tr>\n",
              "      <th>9</th>\n",
              "      <td>SVC_lin</td>\n",
              "      <td>TfidfVectorizer</td>\n",
              "      <td>False</td>\n",
              "      <td>0.821465</td>\n",
              "      <td>0.809755</td>\n",
              "      <td>0.842878</td>\n",
              "      <td>0.825903</td>\n",
              "    </tr>\n",
              "    <tr>\n",
              "      <th>10</th>\n",
              "      <td>SVC_lin</td>\n",
              "      <td>HashingVectorizer</td>\n",
              "      <td>True</td>\n",
              "      <td>0.528086</td>\n",
              "      <td>0.555366</td>\n",
              "      <td>0.305805</td>\n",
              "      <td>0.394161</td>\n",
              "    </tr>\n",
              "    <tr>\n",
              "      <th>11</th>\n",
              "      <td>SVC_lin</td>\n",
              "      <td>HashingVectorizer</td>\n",
              "      <td>False</td>\n",
              "      <td>0.798109</td>\n",
              "      <td>0.805290</td>\n",
              "      <td>0.789869</td>\n",
              "      <td>0.797232</td>\n",
              "    </tr>\n",
              "    <tr>\n",
              "      <th>12</th>\n",
              "      <td>SVC_g</td>\n",
              "      <td>CountVectorizer</td>\n",
              "      <td>True</td>\n",
              "      <td>0.586376</td>\n",
              "      <td>0.591111</td>\n",
              "      <td>0.575881</td>\n",
              "      <td>0.583077</td>\n",
              "    </tr>\n",
              "    <tr>\n",
              "      <th>13</th>\n",
              "      <td>SVC_g</td>\n",
              "      <td>CountVectorizer</td>\n",
              "      <td>False</td>\n",
              "      <td>0.693692</td>\n",
              "      <td>0.960804</td>\n",
              "      <td>0.406843</td>\n",
              "      <td>0.571584</td>\n",
              "    </tr>\n",
              "    <tr>\n",
              "      <th>14</th>\n",
              "      <td>SVC_g</td>\n",
              "      <td>TfidfVectorizer</td>\n",
              "      <td>True</td>\n",
              "      <td>0.604134</td>\n",
              "      <td>0.609144</td>\n",
              "      <td>0.591626</td>\n",
              "      <td>0.600244</td>\n",
              "    </tr>\n",
              "    <tr>\n",
              "      <th>15</th>\n",
              "      <td>SVC_g</td>\n",
              "      <td>TfidfVectorizer</td>\n",
              "      <td>False</td>\n",
              "      <td>0.818380</td>\n",
              "      <td>0.807612</td>\n",
              "      <td>0.839038</td>\n",
              "      <td>0.822812</td>\n",
              "    </tr>\n",
              "    <tr>\n",
              "      <th>16</th>\n",
              "      <td>SVC_g</td>\n",
              "      <td>HashingVectorizer</td>\n",
              "      <td>True</td>\n",
              "      <td>0.605293</td>\n",
              "      <td>0.641679</td>\n",
              "      <td>0.487532</td>\n",
              "      <td>0.553585</td>\n",
              "    </tr>\n",
              "    <tr>\n",
              "      <th>17</th>\n",
              "      <td>SVC_g</td>\n",
              "      <td>HashingVectorizer</td>\n",
              "      <td>False</td>\n",
              "      <td>0.791741</td>\n",
              "      <td>0.806542</td>\n",
              "      <td>0.770657</td>\n",
              "      <td>0.788062</td>\n",
              "    </tr>\n",
              "    <tr>\n",
              "      <th>18</th>\n",
              "      <td>KNeighborsClassifier</td>\n",
              "      <td>CountVectorizer</td>\n",
              "      <td>True</td>\n",
              "      <td>0.590811</td>\n",
              "      <td>0.601613</td>\n",
              "      <td>0.548229</td>\n",
              "      <td>0.573123</td>\n",
              "    </tr>\n",
              "    <tr>\n",
              "      <th>19</th>\n",
              "      <td>KNeighborsClassifier</td>\n",
              "      <td>CountVectorizer</td>\n",
              "      <td>False</td>\n",
              "      <td>0.566108</td>\n",
              "      <td>0.630435</td>\n",
              "      <td>0.329217</td>\n",
              "      <td>0.430747</td>\n",
              "    </tr>\n",
              "    <tr>\n",
              "      <th>20</th>\n",
              "      <td>KNeighborsClassifier</td>\n",
              "      <td>TfidfVectorizer</td>\n",
              "      <td>True</td>\n",
              "      <td>0.558771</td>\n",
              "      <td>0.560941</td>\n",
              "      <td>0.559739</td>\n",
              "      <td>0.560259</td>\n",
              "    </tr>\n",
              "    <tr>\n",
              "      <th>21</th>\n",
              "      <td>KNeighborsClassifier</td>\n",
              "      <td>TfidfVectorizer</td>\n",
              "      <td>False</td>\n",
              "      <td>0.784211</td>\n",
              "      <td>0.810977</td>\n",
              "      <td>0.743763</td>\n",
              "      <td>0.775673</td>\n",
              "    </tr>\n",
              "    <tr>\n",
              "      <th>22</th>\n",
              "      <td>KNeighborsClassifier</td>\n",
              "      <td>HashingVectorizer</td>\n",
              "      <td>True</td>\n",
              "      <td>0.610884</td>\n",
              "      <td>0.613901</td>\n",
              "      <td>0.607006</td>\n",
              "      <td>0.610355</td>\n",
              "    </tr>\n",
              "    <tr>\n",
              "      <th>23</th>\n",
              "      <td>KNeighborsClassifier</td>\n",
              "      <td>HashingVectorizer</td>\n",
              "      <td>False</td>\n",
              "      <td>0.728047</td>\n",
              "      <td>0.762208</td>\n",
              "      <td>0.666930</td>\n",
              "      <td>0.711351</td>\n",
              "    </tr>\n",
              "    <tr>\n",
              "      <th>24</th>\n",
              "      <td>MLP</td>\n",
              "      <td>CountVectorizer</td>\n",
              "      <td>True</td>\n",
              "      <td>0.614558</td>\n",
              "      <td>0.598328</td>\n",
              "      <td>0.711905</td>\n",
              "      <td>0.648708</td>\n",
              "    </tr>\n",
              "    <tr>\n",
              "      <th>25</th>\n",
              "      <td>MLP</td>\n",
              "      <td>CountVectorizer</td>\n",
              "      <td>False</td>\n",
              "      <td>0.834978</td>\n",
              "      <td>0.858117</td>\n",
              "      <td>0.805618</td>\n",
              "      <td>0.830696</td>\n",
              "    </tr>\n",
              "    <tr>\n",
              "      <th>26</th>\n",
              "      <td>MLP</td>\n",
              "      <td>TfidfVectorizer</td>\n",
              "      <td>True</td>\n",
              "      <td>0.616101</td>\n",
              "      <td>0.606643</td>\n",
              "      <td>0.674990</td>\n",
              "      <td>0.638711</td>\n",
              "    </tr>\n",
              "    <tr>\n",
              "      <th>27</th>\n",
              "      <td>MLP</td>\n",
              "      <td>TfidfVectorizer</td>\n",
              "      <td>False</td>\n",
              "      <td>0.827835</td>\n",
              "      <td>0.814205</td>\n",
              "      <td>0.852484</td>\n",
              "      <td>0.832660</td>\n",
              "    </tr>\n",
              "    <tr>\n",
              "      <th>28</th>\n",
              "      <td>MLP</td>\n",
              "      <td>HashingVectorizer</td>\n",
              "      <td>True</td>\n",
              "      <td>0.605293</td>\n",
              "      <td>0.610077</td>\n",
              "      <td>0.593580</td>\n",
              "      <td>0.601085</td>\n",
              "    </tr>\n",
              "    <tr>\n",
              "      <th>29</th>\n",
              "      <td>MLP</td>\n",
              "      <td>HashingVectorizer</td>\n",
              "      <td>False</td>\n",
              "      <td>0.798883</td>\n",
              "      <td>0.800209</td>\n",
              "      <td>0.799465</td>\n",
              "      <td>0.799797</td>\n",
              "    </tr>\n",
              "    <tr>\n",
              "      <th>30</th>\n",
              "      <td>RandomForestClassifier</td>\n",
              "      <td>CountVectorizer</td>\n",
              "      <td>True</td>\n",
              "      <td>0.592744</td>\n",
              "      <td>0.602608</td>\n",
              "      <td>0.556300</td>\n",
              "      <td>0.578130</td>\n",
              "    </tr>\n",
              "    <tr>\n",
              "      <th>31</th>\n",
              "      <td>RandomForestClassifier</td>\n",
              "      <td>CountVectorizer</td>\n",
              "      <td>False</td>\n",
              "      <td>0.755649</td>\n",
              "      <td>0.852067</td>\n",
              "      <td>0.622362</td>\n",
              "      <td>0.719130</td>\n",
              "    </tr>\n",
              "    <tr>\n",
              "      <th>32</th>\n",
              "      <td>RandomForestClassifier</td>\n",
              "      <td>TfidfVectorizer</td>\n",
              "      <td>True</td>\n",
              "      <td>0.558965</td>\n",
              "      <td>0.562070</td>\n",
              "      <td>0.554756</td>\n",
              "      <td>0.558297</td>\n",
              "    </tr>\n",
              "    <tr>\n",
              "      <th>33</th>\n",
              "      <td>RandomForestClassifier</td>\n",
              "      <td>TfidfVectorizer</td>\n",
              "      <td>False</td>\n",
              "      <td>0.721101</td>\n",
              "      <td>0.869435</td>\n",
              "      <td>0.524408</td>\n",
              "      <td>0.653927</td>\n",
              "    </tr>\n",
              "    <tr>\n",
              "      <th>34</th>\n",
              "      <td>RandomForestClassifier</td>\n",
              "      <td>HashingVectorizer</td>\n",
              "      <td>True</td>\n",
              "      <td>0.600464</td>\n",
              "      <td>0.602529</td>\n",
              "      <td>0.600860</td>\n",
              "      <td>0.601664</td>\n",
              "    </tr>\n",
              "    <tr>\n",
              "      <th>35</th>\n",
              "      <td>RandomForestClassifier</td>\n",
              "      <td>HashingVectorizer</td>\n",
              "      <td>False</td>\n",
              "      <td>0.772638</td>\n",
              "      <td>0.850620</td>\n",
              "      <td>0.664632</td>\n",
              "      <td>0.745956</td>\n",
              "    </tr>\n",
              "    <tr>\n",
              "      <th>36</th>\n",
              "      <td>MultinomialNB</td>\n",
              "      <td>CountVectorizer</td>\n",
              "      <td>False</td>\n",
              "      <td>0.828029</td>\n",
              "      <td>0.795926</td>\n",
              "      <td>0.885140</td>\n",
              "      <td>0.838032</td>\n",
              "    </tr>\n",
              "    <tr>\n",
              "      <th>37</th>\n",
              "      <td>MultinomialNB</td>\n",
              "      <td>TfidfVectorizer</td>\n",
              "      <td>False</td>\n",
              "      <td>0.829574</td>\n",
              "      <td>0.797805</td>\n",
              "      <td>0.885908</td>\n",
              "      <td>0.839383</td>\n",
              "    </tr>\n",
              "  </tbody>\n",
              "</table>\n",
              "</div>"
            ],
            "text/plain": [
              "                     model               vect    svd  accuracy  precision  \\\n",
              "0       LogisticRegression    CountVectorizer   True  0.554334   0.583965   \n",
              "1       LogisticRegression    CountVectorizer  False  0.824553   0.869320   \n",
              "2       LogisticRegression    TfidfVectorizer   True  0.567848   0.578922   \n",
              "3       LogisticRegression    TfidfVectorizer  False  0.811431   0.797071   \n",
              "4       LogisticRegression  HashingVectorizer   True  0.557230   0.580587   \n",
              "5       LogisticRegression  HashingVectorizer  False  0.783443   0.795316   \n",
              "6                  SVC_lin    CountVectorizer   True  0.548351   0.584661   \n",
              "7                  SVC_lin    CountVectorizer  False  0.818957   0.867242   \n",
              "8                  SVC_lin    TfidfVectorizer   True  0.542367   0.576839   \n",
              "9                  SVC_lin    TfidfVectorizer  False  0.821465   0.809755   \n",
              "10                 SVC_lin  HashingVectorizer   True  0.528086   0.555366   \n",
              "11                 SVC_lin  HashingVectorizer  False  0.798109   0.805290   \n",
              "12                   SVC_g    CountVectorizer   True  0.586376   0.591111   \n",
              "13                   SVC_g    CountVectorizer  False  0.693692   0.960804   \n",
              "14                   SVC_g    TfidfVectorizer   True  0.604134   0.609144   \n",
              "15                   SVC_g    TfidfVectorizer  False  0.818380   0.807612   \n",
              "16                   SVC_g  HashingVectorizer   True  0.605293   0.641679   \n",
              "17                   SVC_g  HashingVectorizer  False  0.791741   0.806542   \n",
              "18    KNeighborsClassifier    CountVectorizer   True  0.590811   0.601613   \n",
              "19    KNeighborsClassifier    CountVectorizer  False  0.566108   0.630435   \n",
              "20    KNeighborsClassifier    TfidfVectorizer   True  0.558771   0.560941   \n",
              "21    KNeighborsClassifier    TfidfVectorizer  False  0.784211   0.810977   \n",
              "22    KNeighborsClassifier  HashingVectorizer   True  0.610884   0.613901   \n",
              "23    KNeighborsClassifier  HashingVectorizer  False  0.728047   0.762208   \n",
              "24                     MLP    CountVectorizer   True  0.614558   0.598328   \n",
              "25                     MLP    CountVectorizer  False  0.834978   0.858117   \n",
              "26                     MLP    TfidfVectorizer   True  0.616101   0.606643   \n",
              "27                     MLP    TfidfVectorizer  False  0.827835   0.814205   \n",
              "28                     MLP  HashingVectorizer   True  0.605293   0.610077   \n",
              "29                     MLP  HashingVectorizer  False  0.798883   0.800209   \n",
              "30  RandomForestClassifier    CountVectorizer   True  0.592744   0.602608   \n",
              "31  RandomForestClassifier    CountVectorizer  False  0.755649   0.852067   \n",
              "32  RandomForestClassifier    TfidfVectorizer   True  0.558965   0.562070   \n",
              "33  RandomForestClassifier    TfidfVectorizer  False  0.721101   0.869435   \n",
              "34  RandomForestClassifier  HashingVectorizer   True  0.600464   0.602529   \n",
              "35  RandomForestClassifier  HashingVectorizer  False  0.772638   0.850620   \n",
              "36           MultinomialNB    CountVectorizer  False  0.828029   0.795926   \n",
              "37           MultinomialNB    TfidfVectorizer  False  0.829574   0.797805   \n",
              "\n",
              "      recall        f1  \n",
              "0   0.394166  0.470439  \n",
              "1   0.766428  0.814423  \n",
              "2   0.514041  0.544279  \n",
              "3   0.838650  0.817161  \n",
              "4   0.428362  0.492618  \n",
              "5   0.766808  0.780722  \n",
              "6   0.352291  0.439226  \n",
              "7   0.756054  0.807562  \n",
              "8   0.337699  0.425490  \n",
              "9   0.842878  0.825903  \n",
              "10  0.305805  0.394161  \n",
              "11  0.789869  0.797232  \n",
              "12  0.575881  0.583077  \n",
              "13  0.406843  0.571584  \n",
              "14  0.591626  0.600244  \n",
              "15  0.839038  0.822812  \n",
              "16  0.487532  0.553585  \n",
              "17  0.770657  0.788062  \n",
              "18  0.548229  0.573123  \n",
              "19  0.329217  0.430747  \n",
              "20  0.559739  0.560259  \n",
              "21  0.743763  0.775673  \n",
              "22  0.607006  0.610355  \n",
              "23  0.666930  0.711351  \n",
              "24  0.711905  0.648708  \n",
              "25  0.805618  0.830696  \n",
              "26  0.674990  0.638711  \n",
              "27  0.852484  0.832660  \n",
              "28  0.593580  0.601085  \n",
              "29  0.799465  0.799797  \n",
              "30  0.556300  0.578130  \n",
              "31  0.622362  0.719130  \n",
              "32  0.554756  0.558297  \n",
              "33  0.524408  0.653927  \n",
              "34  0.600860  0.601664  \n",
              "35  0.664632  0.745956  \n",
              "36  0.885140  0.838032  \n",
              "37  0.885908  0.839383  "
            ]
          },
          "execution_count": 42,
          "metadata": {},
          "output_type": "execute_result"
        }
      ],
      "source": [
        "res"
      ]
    },
    {
      "cell_type": "code",
      "execution_count": null,
      "id": "da8e603d",
      "metadata": {
        "id": "da8e603d",
        "outputId": "96b6dea6-66c5-452b-97df-3f00be64f3e0"
      },
      "outputs": [
        {
          "data": {
            "text/html": [
              "<div>\n",
              "<style scoped>\n",
              "    .dataframe tbody tr th:only-of-type {\n",
              "        vertical-align: middle;\n",
              "    }\n",
              "\n",
              "    .dataframe tbody tr th {\n",
              "        vertical-align: top;\n",
              "    }\n",
              "\n",
              "    .dataframe thead th {\n",
              "        text-align: right;\n",
              "    }\n",
              "</style>\n",
              "<table border=\"1\" class=\"dataframe\">\n",
              "  <thead>\n",
              "    <tr style=\"text-align: right;\">\n",
              "      <th></th>\n",
              "      <th>model</th>\n",
              "      <th>f1</th>\n",
              "    </tr>\n",
              "  </thead>\n",
              "  <tbody>\n",
              "    <tr>\n",
              "      <th>0</th>\n",
              "      <td>KNeighborsClassifier</td>\n",
              "      <td>0.775673</td>\n",
              "    </tr>\n",
              "    <tr>\n",
              "      <th>1</th>\n",
              "      <td>LogisticRegression</td>\n",
              "      <td>0.817161</td>\n",
              "    </tr>\n",
              "    <tr>\n",
              "      <th>2</th>\n",
              "      <td>MLP</td>\n",
              "      <td>0.832660</td>\n",
              "    </tr>\n",
              "    <tr>\n",
              "      <th>3</th>\n",
              "      <td>MultinomialNB</td>\n",
              "      <td>0.839383</td>\n",
              "    </tr>\n",
              "    <tr>\n",
              "      <th>4</th>\n",
              "      <td>RandomForestClassifier</td>\n",
              "      <td>0.745956</td>\n",
              "    </tr>\n",
              "    <tr>\n",
              "      <th>5</th>\n",
              "      <td>SVC_g</td>\n",
              "      <td>0.822812</td>\n",
              "    </tr>\n",
              "    <tr>\n",
              "      <th>6</th>\n",
              "      <td>SVC_lin</td>\n",
              "      <td>0.825903</td>\n",
              "    </tr>\n",
              "  </tbody>\n",
              "</table>\n",
              "</div>"
            ],
            "text/plain": [
              "                    model        f1\n",
              "0    KNeighborsClassifier  0.775673\n",
              "1      LogisticRegression  0.817161\n",
              "2                     MLP  0.832660\n",
              "3           MultinomialNB  0.839383\n",
              "4  RandomForestClassifier  0.745956\n",
              "5                   SVC_g  0.822812\n",
              "6                 SVC_lin  0.825903"
            ]
          },
          "execution_count": 20,
          "metadata": {},
          "output_type": "execute_result"
        }
      ],
      "source": [
        "res.groupby('model', as_index=False).agg({'f1':max})"
      ]
    },
    {
      "cell_type": "code",
      "execution_count": null,
      "id": "5f2e177b",
      "metadata": {
        "id": "5f2e177b"
      },
      "outputs": [],
      "source": [
        "col = ['model', 'accuracy', 'precision', 'recall', 'f1']\n",
        "res[col].groupby('model', as_index=False).agg(np.mean)"
      ]
    },
    {
      "cell_type": "code",
      "execution_count": null,
      "id": "5ee38afa",
      "metadata": {
        "id": "5ee38afa",
        "outputId": "efc1e50a-c1c2-41e7-d67b-2e0518b8f797"
      },
      "outputs": [
        {
          "data": {
            "text/plain": [
              "accuracy     0.580145\n",
              "precision    0.592277\n",
              "recall       0.521932\n",
              "f1           0.548525\n",
              "dtype: float64"
            ]
          },
          "execution_count": 22,
          "metadata": {},
          "output_type": "execute_result"
        }
      ],
      "source": [
        "res[res['svd'] == True][['accuracy', 'precision', 'recall', 'f1']].mean()"
      ]
    },
    {
      "cell_type": "code",
      "execution_count": null,
      "id": "3baba049",
      "metadata": {
        "id": "3baba049",
        "outputId": "e116d398-f167-4a90-8f9f-6088ce317a8a"
      },
      "outputs": [
        {
          "data": {
            "text/plain": [
              "accuracy     0.780441\n",
              "precision    0.818048\n",
              "recall       0.727858\n",
              "f1           0.760141\n",
              "dtype: float64"
            ]
          },
          "execution_count": 23,
          "metadata": {},
          "output_type": "execute_result"
        }
      ],
      "source": [
        "res[res['svd'] == False][['accuracy', 'precision', 'recall', 'f1']].mean()"
      ]
    },
    {
      "cell_type": "markdown",
      "id": "264016a1",
      "metadata": {
        "id": "264016a1"
      },
      "source": [
        "*Уже тут видно, что в среднем модели без SVD-разложения дают лучше результаты. Поэтому в дальнейшем я откажусь от этого.*"
      ]
    },
    {
      "cell_type": "code",
      "execution_count": null,
      "id": "13c16342",
      "metadata": {
        "id": "13c16342"
      },
      "outputs": [],
      "source": [
        "pv = pd.pivot_table(res, values=['f1'], columns=['model'],\n",
        "                    index=['vect', 'svd'], aggfunc=max)"
      ]
    },
    {
      "cell_type": "code",
      "execution_count": null,
      "id": "683541af",
      "metadata": {
        "id": "683541af"
      },
      "outputs": [],
      "source": [
        "pv_c = colorize_df(pv)"
      ]
    },
    {
      "cell_type": "code",
      "execution_count": null,
      "id": "8a44660b",
      "metadata": {
        "id": "8a44660b",
        "outputId": "e0b2d1bb-91ed-4673-9e81-72bc4806fb23"
      },
      "outputs": [
        {
          "data": {
            "image/png": "[encoded data removed]",
            "text/plain": [
              "<Figure size 1440x1080 with 9 Axes>"
            ]
          },
          "metadata": {
            "needs_background": "light"
          },
          "output_type": "display_data"
        }
      ],
      "source": [
        "plot_learning_curve(vectorizers['CountVectorizer'])"
      ]
    },
    {
      "cell_type": "code",
      "execution_count": null,
      "id": "e6785bef",
      "metadata": {
        "id": "e6785bef",
        "outputId": "cac95518-e3d4-4e03-e4e1-9252804cbeeb"
      },
      "outputs": [
        {
          "data": {
            "image/png": "[encoded data removed]",
            "text/plain": [
              "<Figure size 1440x1080 with 9 Axes>"
            ]
          },
          "metadata": {
            "needs_background": "light"
          },
          "output_type": "display_data"
        }
      ],
      "source": [
        "plot_learning_curve(vectorizers['TfidfVectorizer']) "
      ]
    },
    {
      "cell_type": "code",
      "execution_count": null,
      "id": "462276e5",
      "metadata": {
        "id": "462276e5",
        "outputId": "4d9d3f35-5819-4fa6-f626-8564f11d1b8d"
      },
      "outputs": [
        {
          "name": "stderr",
          "output_type": "stream",
          "text": [
            "/Users/tatyana/opt/anaconda3/lib/python3.8/site-packages/joblib/externals/loky/process_executor.py:702: UserWarning: A worker stopped while some jobs were given to the executor. This can be caused by a too short worker timeout or by a memory leak.\n",
            "  warnings.warn(\n"
          ]
        },
        {
          "data": {
            "image/png": "[encoded data removed]",
            "text/plain": [
              "<Figure size 1440x1080 with 6 Axes>"
            ]
          },
          "metadata": {
            "needs_background": "light"
          },
          "output_type": "display_data"
        }
      ],
      "source": [
        "plot_learning_curve(vectorizers['HashingVectorizer'])"
      ]
    },
    {
      "cell_type": "markdown",
      "id": "619d2f92",
      "metadata": {
        "id": "619d2f92"
      },
      "source": [
        "*По кривым обучения очевидно, что все модели получились переобученными. Попробуем это исправить с помощью регуляризации. Также с помощью перебора гиперпараметров можно улучшить качество моделей. Полный перебор параметров (для всех векторайзеров и для всех моделей) будет очень расточительным. Поэтому будем подбирать поэтапно. Сначала определимся с лучшим векторным представлением для каждого алгоритма классификации.*"
      ]
    },
    {
      "cell_type": "code",
      "execution_count": null,
      "id": "31e0d0f4",
      "metadata": {
        "id": "31e0d0f4"
      },
      "outputs": [],
      "source": [
        "param_vect = {\n",
        "               'CountVectorizer': {'vect__max_features': [None, 5000, 10_000, 15_000],\n",
        "                                   'vect__ngram_range': [(1, 1), (1, 2), (1, 3)],\n",
        "                                   'vect__stop_words': [None, {'english', 'russian'}]},                         \n",
        "    \n",
        "               'TfidfVectorizer': {'vect__max_features': [None, 5000, 10_000, 15_000],\n",
        "                                   'vect__ngram_range': [(1, 1), (1, 2), (1, 3)],\n",
        "                                   'vect__stop_words': [None, {'english', 'russian'}],\n",
        "                                   'vect__norm': ['l1', 'l2']},                       \n",
        "              \n",
        "               'HashingVectorizer': {'vect__n_features': [5000, 10_000, 15_000],\n",
        "                                     'vect__ngram_range': [(1, 1), (1, 2), (1, 3)],\n",
        "                                     'vect__stop_words': [None, {'english', 'russian'}],\n",
        "                                     'vect__norm': ['l1', 'l2']}\n",
        "             }                        "
      ]
    },
    {
      "cell_type": "code",
      "execution_count": null,
      "id": "e81dceb9",
      "metadata": {
        "id": "e81dceb9",
        "outputId": "3c300872-dcff-45d8-af3d-fd60e5197e2a"
      },
      "outputs": [
        {
          "name": "stdout",
          "output_type": "stream",
          "text": [
            "Fitting 5 folds for each of 24 candidates, totalling 120 fits\n",
            "Fitting 5 folds for each of 48 candidates, totalling 240 fits\n",
            "Fitting 5 folds for each of 36 candidates, totalling 180 fits\n",
            "Fitting 5 folds for each of 24 candidates, totalling 120 fits\n",
            "Fitting 5 folds for each of 48 candidates, totalling 240 fits\n",
            "Fitting 5 folds for each of 36 candidates, totalling 180 fits\n",
            "Fitting 5 folds for each of 24 candidates, totalling 120 fits\n",
            "Fitting 5 folds for each of 48 candidates, totalling 240 fits\n",
            "Fitting 5 folds for each of 36 candidates, totalling 180 fits\n",
            "Fitting 5 folds for each of 24 candidates, totalling 120 fits\n",
            "Fitting 5 folds for each of 48 candidates, totalling 240 fits\n",
            "Fitting 5 folds for each of 36 candidates, totalling 180 fits\n",
            "Fitting 5 folds for each of 24 candidates, totalling 120 fits\n",
            "Fitting 5 folds for each of 48 candidates, totalling 240 fits\n",
            "Fitting 5 folds for each of 36 candidates, totalling 180 fits\n",
            "Fitting 5 folds for each of 24 candidates, totalling 120 fits\n",
            "Fitting 5 folds for each of 48 candidates, totalling 240 fits\n",
            "Fitting 5 folds for each of 36 candidates, totalling 180 fits\n",
            "Fitting 5 folds for each of 24 candidates, totalling 120 fits\n",
            "Fitting 5 folds for each of 48 candidates, totalling 240 fits\n"
          ]
        }
      ],
      "source": [
        "vect_gscv = dict()\n",
        "for name_model, model in models.items():\n",
        "    for name_vect, vect in vectorizers.items():\n",
        "        if name_vect == 'HashingVectorizer' and name_model == 'MultinomialNB':\n",
        "                    continue\n",
        "        pipe = get_pipe(model, vect)\n",
        "        gscv = GridSearchCV(pipe, param_vect[name_vect],\n",
        "                            cv=5, n_jobs=-1,\n",
        "                            scoring=scoring['f1'], \n",
        "                            verbose=2,\n",
        "                            error_score='raise')\n",
        "        gscv.fit(X_train, y_train)\n",
        "        vect_gscv[(name_model, name_vect)] = [gscv.best_params_, gscv.best_score_]"
      ]
    },
    {
      "cell_type": "code",
      "execution_count": null,
      "id": "d149316f",
      "metadata": {
        "id": "d149316f"
      },
      "outputs": [],
      "source": [
        "choice_vect = []\n",
        "for mod, best in vect_gscv.items():\n",
        "    choice_vect.append([])\n",
        "    choice_vect[-1].extend(mod)\n",
        "    choice_vect[-1].extend(best)"
      ]
    },
    {
      "cell_type": "code",
      "execution_count": null,
      "id": "9d784f8d",
      "metadata": {
        "id": "9d784f8d"
      },
      "outputs": [],
      "source": [
        "ch_vect = pd.DataFrame(choice_vect, columns=['cls', 'vect', 'param', 'f1'])"
      ]
    },
    {
      "cell_type": "code",
      "execution_count": null,
      "id": "754e5fd1",
      "metadata": {
        "id": "754e5fd1"
      },
      "outputs": [],
      "source": [
        "pv_vect = pd.pivot_table(ch_vect, values=['f1'], \n",
        "                         columns=['cls'], index=['vect'], aggfunc=max)"
      ]
    },
    {
      "cell_type": "markdown",
      "id": "3608142e",
      "metadata": {
        "id": "3608142e"
      },
      "source": [
        "*Посмотрим на новые результаты. Видно, что в большинстве случаев немного настроенный TF-IDF оказался лучше. Зафиксируем отобранные векторайзеры для моделей.*"
      ]
    },
    {
      "cell_type": "code",
      "execution_count": null,
      "id": "7bbce060",
      "metadata": {
        "id": "7bbce060",
        "outputId": "7127a89d-de69-492f-d5f7-d54a17f4b26f"
      },
      "outputs": [
        {
          "data": {
            "text/html": [
              "<style type=\"text/css\">\n",
              "#T_efb75_row1_col4, #T_efb75_row2_col0, #T_efb75_row2_col1, #T_efb75_row2_col3, #T_efb75_row2_col5, #T_efb75_row2_col6 {\n",
              "  color: green;\n",
              "}\n",
              "#T_efb75_row2_col2 {\n",
              "  color: green;\n",
              "  color: white;\n",
              "  background-color: green;\n",
              "}\n",
              "</style>\n",
              "<table id=\"T_efb75_\">\n",
              "  <thead>\n",
              "    <tr>\n",
              "      <th class=\"blank level0\" >&nbsp;</th>\n",
              "      <th class=\"col_heading level0 col0\" colspan=\"7\">f1</th>\n",
              "    </tr>\n",
              "    <tr>\n",
              "      <th class=\"index_name level1\" >cls</th>\n",
              "      <th class=\"col_heading level1 col0\" >KNeighborsClassifier</th>\n",
              "      <th class=\"col_heading level1 col1\" >LogisticRegression</th>\n",
              "      <th class=\"col_heading level1 col2\" >MLP</th>\n",
              "      <th class=\"col_heading level1 col3\" >MultinomialNB</th>\n",
              "      <th class=\"col_heading level1 col4\" >RandomForestClassifier</th>\n",
              "      <th class=\"col_heading level1 col5\" >SVC_g</th>\n",
              "      <th class=\"col_heading level1 col6\" >SVC_lin</th>\n",
              "    </tr>\n",
              "    <tr>\n",
              "      <th class=\"index_name level0\" >vect</th>\n",
              "      <th class=\"blank col0\" >&nbsp;</th>\n",
              "      <th class=\"blank col1\" >&nbsp;</th>\n",
              "      <th class=\"blank col2\" >&nbsp;</th>\n",
              "      <th class=\"blank col3\" >&nbsp;</th>\n",
              "      <th class=\"blank col4\" >&nbsp;</th>\n",
              "      <th class=\"blank col5\" >&nbsp;</th>\n",
              "      <th class=\"blank col6\" >&nbsp;</th>\n",
              "    </tr>\n",
              "  </thead>\n",
              "  <tbody>\n",
              "    <tr>\n",
              "      <th id=\"T_efb75_level0_row0\" class=\"row_heading level0 row0\" >CountVectorizer</th>\n",
              "      <td id=\"T_efb75_row0_col0\" class=\"data row0 col0\" >0.459976</td>\n",
              "      <td id=\"T_efb75_row0_col1\" class=\"data row0 col1\" >0.814423</td>\n",
              "      <td id=\"T_efb75_row0_col2\" class=\"data row0 col2\" >0.830696</td>\n",
              "      <td id=\"T_efb75_row0_col3\" class=\"data row0 col3\" >0.840029</td>\n",
              "      <td id=\"T_efb75_row0_col4\" class=\"data row0 col4\" >0.733581</td>\n",
              "      <td id=\"T_efb75_row0_col5\" class=\"data row0 col5\" >0.759862</td>\n",
              "      <td id=\"T_efb75_row0_col6\" class=\"data row0 col6\" >0.807562</td>\n",
              "    </tr>\n",
              "    <tr>\n",
              "      <th id=\"T_efb75_level0_row1\" class=\"row_heading level0 row1\" >HashingVectorizer</th>\n",
              "      <td id=\"T_efb75_row1_col0\" class=\"data row1 col0\" >0.711402</td>\n",
              "      <td id=\"T_efb75_row1_col1\" class=\"data row1 col1\" >0.770827</td>\n",
              "      <td id=\"T_efb75_row1_col2\" class=\"data row1 col2\" >0.779104</td>\n",
              "      <td id=\"T_efb75_row1_col3\" class=\"data row1 col3\" >nan</td>\n",
              "      <td id=\"T_efb75_row1_col4\" class=\"data row1 col4\" >0.750967</td>\n",
              "      <td id=\"T_efb75_row1_col5\" class=\"data row1 col5\" >0.817091</td>\n",
              "      <td id=\"T_efb75_row1_col6\" class=\"data row1 col6\" >0.780101</td>\n",
              "    </tr>\n",
              "    <tr>\n",
              "      <th id=\"T_efb75_level0_row2\" class=\"row_heading level0 row2\" >TfidfVectorizer</th>\n",
              "      <td id=\"T_efb75_row2_col0\" class=\"data row2 col0\" >0.775673</td>\n",
              "      <td id=\"T_efb75_row2_col1\" class=\"data row2 col1\" >0.819339</td>\n",
              "      <td id=\"T_efb75_row2_col2\" class=\"data row2 col2\" >0.842606</td>\n",
              "      <td id=\"T_efb75_row2_col3\" class=\"data row2 col3\" >0.841043</td>\n",
              "      <td id=\"T_efb75_row2_col4\" class=\"data row2 col4\" >0.727294</td>\n",
              "      <td id=\"T_efb75_row2_col5\" class=\"data row2 col5\" >0.824605</td>\n",
              "      <td id=\"T_efb75_row2_col6\" class=\"data row2 col6\" >0.830948</td>\n",
              "    </tr>\n",
              "  </tbody>\n",
              "</table>\n"
            ],
            "text/plain": [
              "<pandas.io.formats.style.Styler at 0x7ff395567250>"
            ]
          },
          "execution_count": 37,
          "metadata": {},
          "output_type": "execute_result"
        }
      ],
      "source": [
        "pv_vect_c = colorize_df(pv_vect)\n",
        "pv_vect_c  # новые"
      ]
    },
    {
      "cell_type": "code",
      "execution_count": null,
      "id": "9f02a956",
      "metadata": {
        "id": "9f02a956",
        "outputId": "b2127cfc-5f05-4714-addf-eab10c159ed7"
      },
      "outputs": [
        {
          "data": {
            "text/html": [
              "<style type=\"text/css\">\n",
              "#T_a5a65_row2_col4, #T_a5a65_row4_col0, #T_a5a65_row4_col1, #T_a5a65_row4_col2, #T_a5a65_row4_col5, #T_a5a65_row4_col6 {\n",
              "  color: green;\n",
              "}\n",
              "#T_a5a65_row4_col3 {\n",
              "  color: green;\n",
              "  color: white;\n",
              "  background-color: green;\n",
              "}\n",
              "</style>\n",
              "<table id=\"T_a5a65_\">\n",
              "  <thead>\n",
              "    <tr>\n",
              "      <th class=\"blank\" >&nbsp;</th>\n",
              "      <th class=\"blank level0\" >&nbsp;</th>\n",
              "      <th class=\"col_heading level0 col0\" colspan=\"7\">f1</th>\n",
              "    </tr>\n",
              "    <tr>\n",
              "      <th class=\"blank\" >&nbsp;</th>\n",
              "      <th class=\"index_name level1\" >model</th>\n",
              "      <th class=\"col_heading level1 col0\" >KNeighborsClassifier</th>\n",
              "      <th class=\"col_heading level1 col1\" >LogisticRegression</th>\n",
              "      <th class=\"col_heading level1 col2\" >MLP</th>\n",
              "      <th class=\"col_heading level1 col3\" >MultinomialNB</th>\n",
              "      <th class=\"col_heading level1 col4\" >RandomForestClassifier</th>\n",
              "      <th class=\"col_heading level1 col5\" >SVC_g</th>\n",
              "      <th class=\"col_heading level1 col6\" >SVC_lin</th>\n",
              "    </tr>\n",
              "    <tr>\n",
              "      <th class=\"index_name level0\" >vect</th>\n",
              "      <th class=\"index_name level1\" >svd</th>\n",
              "      <th class=\"blank col0\" >&nbsp;</th>\n",
              "      <th class=\"blank col1\" >&nbsp;</th>\n",
              "      <th class=\"blank col2\" >&nbsp;</th>\n",
              "      <th class=\"blank col3\" >&nbsp;</th>\n",
              "      <th class=\"blank col4\" >&nbsp;</th>\n",
              "      <th class=\"blank col5\" >&nbsp;</th>\n",
              "      <th class=\"blank col6\" >&nbsp;</th>\n",
              "    </tr>\n",
              "  </thead>\n",
              "  <tbody>\n",
              "    <tr>\n",
              "      <th id=\"T_a5a65_level0_row0\" class=\"row_heading level0 row0\" rowspan=\"2\">CountVectorizer</th>\n",
              "      <th id=\"T_a5a65_level1_row0\" class=\"row_heading level1 row0\" >False</th>\n",
              "      <td id=\"T_a5a65_row0_col0\" class=\"data row0 col0\" >0.430747</td>\n",
              "      <td id=\"T_a5a65_row0_col1\" class=\"data row0 col1\" >0.814423</td>\n",
              "      <td id=\"T_a5a65_row0_col2\" class=\"data row0 col2\" >0.830696</td>\n",
              "      <td id=\"T_a5a65_row0_col3\" class=\"data row0 col3\" >0.838032</td>\n",
              "      <td id=\"T_a5a65_row0_col4\" class=\"data row0 col4\" >0.719130</td>\n",
              "      <td id=\"T_a5a65_row0_col5\" class=\"data row0 col5\" >0.571584</td>\n",
              "      <td id=\"T_a5a65_row0_col6\" class=\"data row0 col6\" >0.807562</td>\n",
              "    </tr>\n",
              "    <tr>\n",
              "      <th id=\"T_a5a65_level1_row1\" class=\"row_heading level1 row1\" >True</th>\n",
              "      <td id=\"T_a5a65_row1_col0\" class=\"data row1 col0\" >0.573123</td>\n",
              "      <td id=\"T_a5a65_row1_col1\" class=\"data row1 col1\" >0.470439</td>\n",
              "      <td id=\"T_a5a65_row1_col2\" class=\"data row1 col2\" >0.648708</td>\n",
              "      <td id=\"T_a5a65_row1_col3\" class=\"data row1 col3\" >nan</td>\n",
              "      <td id=\"T_a5a65_row1_col4\" class=\"data row1 col4\" >0.578130</td>\n",
              "      <td id=\"T_a5a65_row1_col5\" class=\"data row1 col5\" >0.583077</td>\n",
              "      <td id=\"T_a5a65_row1_col6\" class=\"data row1 col6\" >0.439226</td>\n",
              "    </tr>\n",
              "    <tr>\n",
              "      <th id=\"T_a5a65_level0_row2\" class=\"row_heading level0 row2\" rowspan=\"2\">HashingVectorizer</th>\n",
              "      <th id=\"T_a5a65_level1_row2\" class=\"row_heading level1 row2\" >False</th>\n",
              "      <td id=\"T_a5a65_row2_col0\" class=\"data row2 col0\" >0.711351</td>\n",
              "      <td id=\"T_a5a65_row2_col1\" class=\"data row2 col1\" >0.780722</td>\n",
              "      <td id=\"T_a5a65_row2_col2\" class=\"data row2 col2\" >0.799797</td>\n",
              "      <td id=\"T_a5a65_row2_col3\" class=\"data row2 col3\" >nan</td>\n",
              "      <td id=\"T_a5a65_row2_col4\" class=\"data row2 col4\" >0.745956</td>\n",
              "      <td id=\"T_a5a65_row2_col5\" class=\"data row2 col5\" >0.788062</td>\n",
              "      <td id=\"T_a5a65_row2_col6\" class=\"data row2 col6\" >0.797232</td>\n",
              "    </tr>\n",
              "    <tr>\n",
              "      <th id=\"T_a5a65_level1_row3\" class=\"row_heading level1 row3\" >True</th>\n",
              "      <td id=\"T_a5a65_row3_col0\" class=\"data row3 col0\" >0.610355</td>\n",
              "      <td id=\"T_a5a65_row3_col1\" class=\"data row3 col1\" >0.492618</td>\n",
              "      <td id=\"T_a5a65_row3_col2\" class=\"data row3 col2\" >0.601085</td>\n",
              "      <td id=\"T_a5a65_row3_col3\" class=\"data row3 col3\" >nan</td>\n",
              "      <td id=\"T_a5a65_row3_col4\" class=\"data row3 col4\" >0.601664</td>\n",
              "      <td id=\"T_a5a65_row3_col5\" class=\"data row3 col5\" >0.553585</td>\n",
              "      <td id=\"T_a5a65_row3_col6\" class=\"data row3 col6\" >0.394161</td>\n",
              "    </tr>\n",
              "    <tr>\n",
              "      <th id=\"T_a5a65_level0_row4\" class=\"row_heading level0 row4\" rowspan=\"2\">TfidfVectorizer</th>\n",
              "      <th id=\"T_a5a65_level1_row4\" class=\"row_heading level1 row4\" >False</th>\n",
              "      <td id=\"T_a5a65_row4_col0\" class=\"data row4 col0\" >0.775673</td>\n",
              "      <td id=\"T_a5a65_row4_col1\" class=\"data row4 col1\" >0.817161</td>\n",
              "      <td id=\"T_a5a65_row4_col2\" class=\"data row4 col2\" >0.832660</td>\n",
              "      <td id=\"T_a5a65_row4_col3\" class=\"data row4 col3\" >0.839383</td>\n",
              "      <td id=\"T_a5a65_row4_col4\" class=\"data row4 col4\" >0.653927</td>\n",
              "      <td id=\"T_a5a65_row4_col5\" class=\"data row4 col5\" >0.822812</td>\n",
              "      <td id=\"T_a5a65_row4_col6\" class=\"data row4 col6\" >0.825903</td>\n",
              "    </tr>\n",
              "    <tr>\n",
              "      <th id=\"T_a5a65_level1_row5\" class=\"row_heading level1 row5\" >True</th>\n",
              "      <td id=\"T_a5a65_row5_col0\" class=\"data row5 col0\" >0.560259</td>\n",
              "      <td id=\"T_a5a65_row5_col1\" class=\"data row5 col1\" >0.544279</td>\n",
              "      <td id=\"T_a5a65_row5_col2\" class=\"data row5 col2\" >0.638711</td>\n",
              "      <td id=\"T_a5a65_row5_col3\" class=\"data row5 col3\" >nan</td>\n",
              "      <td id=\"T_a5a65_row5_col4\" class=\"data row5 col4\" >0.558297</td>\n",
              "      <td id=\"T_a5a65_row5_col5\" class=\"data row5 col5\" >0.600244</td>\n",
              "      <td id=\"T_a5a65_row5_col6\" class=\"data row5 col6\" >0.425490</td>\n",
              "    </tr>\n",
              "  </tbody>\n",
              "</table>\n"
            ],
            "text/plain": [
              "<pandas.io.formats.style.Styler at 0x7ff3904e07c0>"
            ]
          },
          "execution_count": 43,
          "metadata": {},
          "output_type": "execute_result"
        }
      ],
      "source": [
        "pv_c  # старые"
      ]
    },
    {
      "cell_type": "code",
      "execution_count": null,
      "id": "b9e295a1",
      "metadata": {
        "id": "b9e295a1",
        "outputId": "0d91d25a-c845-41ce-dd9b-ed09616d728c"
      },
      "outputs": [
        {
          "data": {
            "text/plain": [
              "{'vect__n_features': 10000,\n",
              " 'vect__ngram_range': (1, 1),\n",
              " 'vect__norm': 'l2',\n",
              " 'vect__stop_words': None}"
            ]
          },
          "execution_count": 38,
          "metadata": {},
          "output_type": "execute_result"
        }
      ],
      "source": [
        "vect_gscv[('RandomForestClassifier', 'HashingVectorizer')][0]"
      ]
    },
    {
      "cell_type": "code",
      "execution_count": null,
      "id": "7324c332",
      "metadata": {
        "id": "7324c332",
        "outputId": "cb8726ee-9e1c-4e99-947f-70c30c618ced"
      },
      "outputs": [
        {
          "name": "stdout",
          "output_type": "stream",
          "text": [
            "LogisticRegression:\n",
            "{'vect__max_features': None, 'vect__ngram_range': (1, 2), 'vect__norm': 'l2', 'vect__stop_words': None}\n",
            "\n",
            "SVC_lin:\n",
            "{'vect__max_features': None, 'vect__ngram_range': (1, 2), 'vect__norm': 'l2', 'vect__stop_words': None}\n",
            "\n",
            "SVC_g:\n",
            "{'vect__max_features': None, 'vect__ngram_range': (1, 2), 'vect__norm': 'l2', 'vect__stop_words': None}\n",
            "\n",
            "KNeighborsClassifier:\n",
            "{'vect__max_features': None, 'vect__ngram_range': (1, 1), 'vect__norm': 'l2', 'vect__stop_words': None}\n",
            "\n",
            "MLP:\n",
            "{'vect__max_features': None, 'vect__ngram_range': (1, 2), 'vect__norm': 'l1', 'vect__stop_words': None}\n",
            "\n",
            "MultinomialNB:\n",
            "{'vect__max_features': None, 'vect__ngram_range': (1, 3), 'vect__norm': 'l2', 'vect__stop_words': None}\n",
            "\n"
          ]
        }
      ],
      "source": [
        "for name_model, model in models.items():\n",
        "    if name_model == 'RandomForestClassifier':\n",
        "        continue\n",
        "    print(f'{name_model}:\\n{vect_gscv[(name_model, \"TfidfVectorizer\")][0]}\\n')"
      ]
    },
    {
      "cell_type": "code",
      "execution_count": null,
      "id": "0be6dcd6",
      "metadata": {
        "id": "0be6dcd6"
      },
      "outputs": [],
      "source": [
        "best_vect = {'LogisticRegression': TfidfVectorizer(lowercase=False, ngram_range=(1, 2)),\n",
        "                   \n",
        "             'SVC_lin': TfidfVectorizer(lowercase=False, ngram_range=(1, 2)),\n",
        "\n",
        "             'SVC_g': TfidfVectorizer(lowercase=False, ngram_range=(1, 2)),\n",
        "\n",
        "             'KNeighborsClassifier': TfidfVectorizer(lowercase=False),\n",
        "\n",
        "             'MLP': TfidfVectorizer(lowercase=False, ngram_range=(1, 2), norm='l1'),\n",
        "\n",
        "             'RandomForestClassifier': HashingVectorizer(lowercase=False, n_features=10000),\n",
        "\n",
        "             'MultinomialNB': TfidfVectorizer(lowercase=False, ngram_range=(1, 3))}"
      ]
    },
    {
      "cell_type": "markdown",
      "id": "0efce57f",
      "metadata": {
        "id": "0efce57f"
      },
      "source": [
        "*Далее пропущен небольшой кусок кода из черновика. Чтобы попытаться улучшить качество моделей с новыми векторами, я делала перебор параметров для самих классификаторов. Однако полный перебор по всем возможным сочетаниям был бы весьма трудоемким. Поэтому сначала я подобрала гиперпараметры, которые сильнее всего влияют на обучение модели. А затем уже дотюнила с помощью сетки GridSearchCV.*"
      ]
    },
    {
      "cell_type": "code",
      "execution_count": null,
      "id": "c6fa3a1a",
      "metadata": {
        "id": "c6fa3a1a"
      },
      "outputs": [],
      "source": [
        "param_model = {'LogisticRegression': {'cls__solver': ['saga'],\n",
        "                                      'cls__penalty': ['l1', 'l2', 'elasticnet', 'none'],\n",
        "                                      'cls__C': [0.1, 1, 10],\n",
        "                                      'cls__max_iter': [200, 250],\n",
        "                                      'cls__l1_ratio': [0, 1, 0.5]},\n",
        "              \n",
        "               'SVC_lin': {'cls__C': [1, 10, 15]},\n",
        "              \n",
        "               'SVC_g': {'cls__C': [1, 10, 15]},\n",
        "              \n",
        "               'KNeighborsClassifier': {'cls__n_neighbors' : np.arange(5, 15, 2),\n",
        "                                        'cls__weights': ['uniform', 'distance'],\n",
        "                                        'cls__algorithm': ['auto', 'ball_tree', 'kd_tree', 'brute']},\n",
        "              \n",
        "               'MLP': {'cls__early_stopping': [False, True],\n",
        "                       'cls__n_iter_no_change': [5, 10, 15],\n",
        "                       'cls__max_iter': [400, 600]},\n",
        "\n",
        "               'RandomForestClassifier': {'cls__n_estimators': [50, 100, 200],\n",
        "                                          'cls__max_depth': [None, 10, 20, 30],\n",
        "                                          'cls__max_leaf_nodes': [None, 10, 50, 100],\n",
        "                                          'cls__max_features': ['log2']},\n",
        "               \n",
        "               'MultinomialNB': {'cls__alpha': [0.0, 0.5, 1.0],\n",
        "                                 'cls__fit_prior': [True, False]}}\n",
        "            "
      ]
    },
    {
      "cell_type": "code",
      "execution_count": null,
      "id": "ecc39463",
      "metadata": {
        "id": "ecc39463",
        "outputId": "e7a029c1-06c3-4a02-efb8-29c3e25fc686"
      },
      "outputs": [
        {
          "name": "stdout",
          "output_type": "stream",
          "text": [
            "Fitting 5 folds for each of 72 candidates, totalling 360 fits\n"
          ]
        },
        {
          "name": "stderr",
          "output_type": "stream",
          "text": [
            "/Users/tatyana/opt/anaconda3/lib/python3.8/site-packages/sklearn/linear_model/_logistic.py:1476: UserWarning: l1_ratio parameter is only used when penalty is 'elasticnet'. Got (penalty=none)\n",
            "  warnings.warn(\n",
            "/Users/tatyana/opt/anaconda3/lib/python3.8/site-packages/sklearn/linear_model/_logistic.py:1483: UserWarning: Setting penalty='none' will ignore the C and l1_ratio parameters\n",
            "  warnings.warn(\n",
            "/Users/tatyana/opt/anaconda3/lib/python3.8/site-packages/sklearn/linear_model/_sag.py:352: ConvergenceWarning: The max_iter was reached which means the coef_ did not converge\n",
            "  warnings.warn(\n"
          ]
        },
        {
          "name": "stdout",
          "output_type": "stream",
          "text": [
            "Fitting 5 folds for each of 3 candidates, totalling 15 fits\n",
            "Fitting 5 folds for each of 3 candidates, totalling 15 fits\n",
            "Fitting 5 folds for each of 40 candidates, totalling 200 fits\n",
            "Fitting 5 folds for each of 12 candidates, totalling 60 fits\n",
            "Fitting 5 folds for each of 48 candidates, totalling 240 fits\n",
            "Fitting 5 folds for each of 6 candidates, totalling 30 fits\n"
          ]
        }
      ],
      "source": [
        "best_vect[name_model]\n",
        "res_gscv = dict()\n",
        "for name_model, model in models.items():\n",
        "    vect = best_vect[name_model]\n",
        "    pipe = get_pipe(model, vect)\n",
        "    gscv = GridSearchCV(pipe, param_model[name_model], \n",
        "                        cv=5, n_jobs=-1, verbose=2, \n",
        "                        scoring=scoring['f1'], \n",
        "                        error_score='raise')\n",
        "    gscv.fit(X_train, y_train)\n",
        "    res_gscv[name_model] = [gscv.best_params_, gscv.best_score_]"
      ]
    },
    {
      "cell_type": "code",
      "execution_count": null,
      "id": "3b3012d5",
      "metadata": {
        "id": "3b3012d5",
        "outputId": "c84307ac-86ab-4ef0-d9cf-f50fa38cee25"
      },
      "outputs": [
        {
          "data": {
            "text/plain": [
              "{'LogisticRegression': [{'cls__C': 0.1,\n",
              "   'cls__l1_ratio': 0,\n",
              "   'cls__max_iter': 200,\n",
              "   'cls__penalty': 'none',\n",
              "   'cls__solver': 'saga'},\n",
              "  0.8304633133216301],\n",
              " 'SVC_lin': [{'cls__C': 10}, 0.8328465760289385],\n",
              " 'SVC_g': [{'cls__C': 10}, 0.827773742560934],\n",
              " 'KNeighborsClassifier': [{'cls__algorithm': 'auto',\n",
              "   'cls__n_neighbors': 13,\n",
              "   'cls__weights': 'distance'},\n",
              "  0.7879343944533073],\n",
              " 'MLP': [{'cls__early_stopping': False,\n",
              "   'cls__max_iter': 400,\n",
              "   'cls__n_iter_no_change': 15},\n",
              "  0.8426643652912824],\n",
              " 'RandomForestClassifier': [{'cls__max_depth': None,\n",
              "   'cls__max_features': 'log2',\n",
              "   'cls__max_leaf_nodes': 100,\n",
              "   'cls__n_estimators': 200},\n",
              "  0.7966389213315465],\n",
              " 'MultinomialNB': [{'cls__alpha': 1.0, 'cls__fit_prior': False},\n",
              "  0.8424114916413314]}"
            ]
          },
          "execution_count": 51,
          "metadata": {},
          "output_type": "execute_result"
        }
      ],
      "source": [
        "res_gscv"
      ]
    },
    {
      "cell_type": "code",
      "execution_count": null,
      "id": "d2cf01b8",
      "metadata": {
        "id": "d2cf01b8"
      },
      "outputs": [],
      "source": [
        "new = []\n",
        "for mod, best in res_gscv.items():\n",
        "    new.append([])\n",
        "    new[-1].append(mod)\n",
        "    new[-1].extend(best)"
      ]
    },
    {
      "cell_type": "code",
      "execution_count": null,
      "id": "7a2d4448",
      "metadata": {
        "id": "7a2d4448"
      },
      "outputs": [],
      "source": [
        "ch_vect_new = pd.DataFrame(new, columns=['cls', 'param', 'f1'])"
      ]
    },
    {
      "cell_type": "code",
      "execution_count": null,
      "id": "c2d6bab9",
      "metadata": {
        "id": "c2d6bab9",
        "outputId": "1209014e-b803-47cd-9f03-97e8c4cdb8dd"
      },
      "outputs": [
        {
          "data": {
            "text/html": [
              "<div>\n",
              "<style scoped>\n",
              "    .dataframe tbody tr th:only-of-type {\n",
              "        vertical-align: middle;\n",
              "    }\n",
              "\n",
              "    .dataframe tbody tr th {\n",
              "        vertical-align: top;\n",
              "    }\n",
              "\n",
              "    .dataframe thead th {\n",
              "        text-align: right;\n",
              "    }\n",
              "</style>\n",
              "<table border=\"1\" class=\"dataframe\">\n",
              "  <thead>\n",
              "    <tr style=\"text-align: right;\">\n",
              "      <th></th>\n",
              "      <th>cls</th>\n",
              "      <th>f1</th>\n",
              "    </tr>\n",
              "  </thead>\n",
              "  <tbody>\n",
              "    <tr>\n",
              "      <th>0</th>\n",
              "      <td>LogisticRegression</td>\n",
              "      <td>0.830463</td>\n",
              "    </tr>\n",
              "    <tr>\n",
              "      <th>1</th>\n",
              "      <td>SVC_lin</td>\n",
              "      <td>0.832847</td>\n",
              "    </tr>\n",
              "    <tr>\n",
              "      <th>2</th>\n",
              "      <td>SVC_g</td>\n",
              "      <td>0.827774</td>\n",
              "    </tr>\n",
              "    <tr>\n",
              "      <th>3</th>\n",
              "      <td>KNeighborsClassifier</td>\n",
              "      <td>0.787934</td>\n",
              "    </tr>\n",
              "    <tr>\n",
              "      <th>4</th>\n",
              "      <td>MLP</td>\n",
              "      <td>0.842664</td>\n",
              "    </tr>\n",
              "    <tr>\n",
              "      <th>5</th>\n",
              "      <td>RandomForestClassifier</td>\n",
              "      <td>0.796639</td>\n",
              "    </tr>\n",
              "    <tr>\n",
              "      <th>6</th>\n",
              "      <td>MultinomialNB</td>\n",
              "      <td>0.842411</td>\n",
              "    </tr>\n",
              "  </tbody>\n",
              "</table>\n",
              "</div>"
            ],
            "text/plain": [
              "                      cls        f1\n",
              "0      LogisticRegression  0.830463\n",
              "1                 SVC_lin  0.832847\n",
              "2                   SVC_g  0.827774\n",
              "3    KNeighborsClassifier  0.787934\n",
              "4                     MLP  0.842664\n",
              "5  RandomForestClassifier  0.796639\n",
              "6           MultinomialNB  0.842411"
            ]
          },
          "execution_count": 54,
          "metadata": {},
          "output_type": "execute_result"
        }
      ],
      "source": [
        "ch_vect_new[['cls', 'f1']]"
      ]
    },
    {
      "cell_type": "code",
      "execution_count": null,
      "id": "47056e49",
      "metadata": {
        "id": "47056e49"
      },
      "outputs": [],
      "source": [
        "pv_vect_new = pd.pivot_table(ch_vect_new, values=['f1'], \n",
        "                         columns=['cls'], aggfunc=max)"
      ]
    },
    {
      "cell_type": "code",
      "execution_count": null,
      "id": "40d15f34",
      "metadata": {
        "id": "40d15f34",
        "outputId": "0be44327-8975-4d2c-b0e0-fcfbc140e9b1"
      },
      "outputs": [
        {
          "data": {
            "text/html": [
              "<style type=\"text/css\">\n",
              "#T_f1e48_row0_col0, #T_f1e48_row0_col1, #T_f1e48_row0_col3, #T_f1e48_row0_col4, #T_f1e48_row0_col5, #T_f1e48_row0_col6 {\n",
              "  color: green;\n",
              "}\n",
              "#T_f1e48_row0_col2 {\n",
              "  color: green;\n",
              "  color: white;\n",
              "  background-color: green;\n",
              "}\n",
              "</style>\n",
              "<table id=\"T_f1e48_\">\n",
              "  <thead>\n",
              "    <tr>\n",
              "      <th class=\"index_name level0\" >cls</th>\n",
              "      <th class=\"col_heading level0 col0\" >KNeighborsClassifier</th>\n",
              "      <th class=\"col_heading level0 col1\" >LogisticRegression</th>\n",
              "      <th class=\"col_heading level0 col2\" >MLP</th>\n",
              "      <th class=\"col_heading level0 col3\" >MultinomialNB</th>\n",
              "      <th class=\"col_heading level0 col4\" >RandomForestClassifier</th>\n",
              "      <th class=\"col_heading level0 col5\" >SVC_g</th>\n",
              "      <th class=\"col_heading level0 col6\" >SVC_lin</th>\n",
              "    </tr>\n",
              "  </thead>\n",
              "  <tbody>\n",
              "    <tr>\n",
              "      <th id=\"T_f1e48_level0_row0\" class=\"row_heading level0 row0\" >f1</th>\n",
              "      <td id=\"T_f1e48_row0_col0\" class=\"data row0 col0\" >0.787934</td>\n",
              "      <td id=\"T_f1e48_row0_col1\" class=\"data row0 col1\" >0.830463</td>\n",
              "      <td id=\"T_f1e48_row0_col2\" class=\"data row0 col2\" >0.842664</td>\n",
              "      <td id=\"T_f1e48_row0_col3\" class=\"data row0 col3\" >0.842411</td>\n",
              "      <td id=\"T_f1e48_row0_col4\" class=\"data row0 col4\" >0.796639</td>\n",
              "      <td id=\"T_f1e48_row0_col5\" class=\"data row0 col5\" >0.827774</td>\n",
              "      <td id=\"T_f1e48_row0_col6\" class=\"data row0 col6\" >0.832847</td>\n",
              "    </tr>\n",
              "  </tbody>\n",
              "</table>\n"
            ],
            "text/plain": [
              "<pandas.io.formats.style.Styler at 0x7ff395efc4c0>"
            ]
          },
          "execution_count": 56,
          "metadata": {},
          "output_type": "execute_result"
        }
      ],
      "source": [
        "pv_vect__new_c = colorize_df(pv_vect_new)\n",
        "pv_vect__new_c  # новая таблица"
      ]
    },
    {
      "cell_type": "code",
      "execution_count": null,
      "id": "d8fe2d28",
      "metadata": {
        "id": "d8fe2d28",
        "outputId": "a2f51d1b-9c0f-47d3-e131-cdea90519c22"
      },
      "outputs": [
        {
          "data": {
            "text/html": [
              "<style type=\"text/css\">\n",
              "#T_efb75_row1_col4, #T_efb75_row2_col0, #T_efb75_row2_col1, #T_efb75_row2_col3, #T_efb75_row2_col5, #T_efb75_row2_col6 {\n",
              "  color: green;\n",
              "}\n",
              "#T_efb75_row2_col2 {\n",
              "  color: green;\n",
              "  color: white;\n",
              "  background-color: green;\n",
              "}\n",
              "</style>\n",
              "<table id=\"T_efb75_\">\n",
              "  <thead>\n",
              "    <tr>\n",
              "      <th class=\"blank level0\" >&nbsp;</th>\n",
              "      <th class=\"col_heading level0 col0\" colspan=\"7\">f1</th>\n",
              "    </tr>\n",
              "    <tr>\n",
              "      <th class=\"index_name level1\" >cls</th>\n",
              "      <th class=\"col_heading level1 col0\" >KNeighborsClassifier</th>\n",
              "      <th class=\"col_heading level1 col1\" >LogisticRegression</th>\n",
              "      <th class=\"col_heading level1 col2\" >MLP</th>\n",
              "      <th class=\"col_heading level1 col3\" >MultinomialNB</th>\n",
              "      <th class=\"col_heading level1 col4\" >RandomForestClassifier</th>\n",
              "      <th class=\"col_heading level1 col5\" >SVC_g</th>\n",
              "      <th class=\"col_heading level1 col6\" >SVC_lin</th>\n",
              "    </tr>\n",
              "    <tr>\n",
              "      <th class=\"index_name level0\" >vect</th>\n",
              "      <th class=\"blank col0\" >&nbsp;</th>\n",
              "      <th class=\"blank col1\" >&nbsp;</th>\n",
              "      <th class=\"blank col2\" >&nbsp;</th>\n",
              "      <th class=\"blank col3\" >&nbsp;</th>\n",
              "      <th class=\"blank col4\" >&nbsp;</th>\n",
              "      <th class=\"blank col5\" >&nbsp;</th>\n",
              "      <th class=\"blank col6\" >&nbsp;</th>\n",
              "    </tr>\n",
              "  </thead>\n",
              "  <tbody>\n",
              "    <tr>\n",
              "      <th id=\"T_efb75_level0_row0\" class=\"row_heading level0 row0\" >CountVectorizer</th>\n",
              "      <td id=\"T_efb75_row0_col0\" class=\"data row0 col0\" >0.459976</td>\n",
              "      <td id=\"T_efb75_row0_col1\" class=\"data row0 col1\" >0.814423</td>\n",
              "      <td id=\"T_efb75_row0_col2\" class=\"data row0 col2\" >0.830696</td>\n",
              "      <td id=\"T_efb75_row0_col3\" class=\"data row0 col3\" >0.840029</td>\n",
              "      <td id=\"T_efb75_row0_col4\" class=\"data row0 col4\" >0.733581</td>\n",
              "      <td id=\"T_efb75_row0_col5\" class=\"data row0 col5\" >0.759862</td>\n",
              "      <td id=\"T_efb75_row0_col6\" class=\"data row0 col6\" >0.807562</td>\n",
              "    </tr>\n",
              "    <tr>\n",
              "      <th id=\"T_efb75_level0_row1\" class=\"row_heading level0 row1\" >HashingVectorizer</th>\n",
              "      <td id=\"T_efb75_row1_col0\" class=\"data row1 col0\" >0.711402</td>\n",
              "      <td id=\"T_efb75_row1_col1\" class=\"data row1 col1\" >0.770827</td>\n",
              "      <td id=\"T_efb75_row1_col2\" class=\"data row1 col2\" >0.779104</td>\n",
              "      <td id=\"T_efb75_row1_col3\" class=\"data row1 col3\" >nan</td>\n",
              "      <td id=\"T_efb75_row1_col4\" class=\"data row1 col4\" >0.750967</td>\n",
              "      <td id=\"T_efb75_row1_col5\" class=\"data row1 col5\" >0.817091</td>\n",
              "      <td id=\"T_efb75_row1_col6\" class=\"data row1 col6\" >0.780101</td>\n",
              "    </tr>\n",
              "    <tr>\n",
              "      <th id=\"T_efb75_level0_row2\" class=\"row_heading level0 row2\" >TfidfVectorizer</th>\n",
              "      <td id=\"T_efb75_row2_col0\" class=\"data row2 col0\" >0.775673</td>\n",
              "      <td id=\"T_efb75_row2_col1\" class=\"data row2 col1\" >0.819339</td>\n",
              "      <td id=\"T_efb75_row2_col2\" class=\"data row2 col2\" >0.842606</td>\n",
              "      <td id=\"T_efb75_row2_col3\" class=\"data row2 col3\" >0.841043</td>\n",
              "      <td id=\"T_efb75_row2_col4\" class=\"data row2 col4\" >0.727294</td>\n",
              "      <td id=\"T_efb75_row2_col5\" class=\"data row2 col5\" >0.824605</td>\n",
              "      <td id=\"T_efb75_row2_col6\" class=\"data row2 col6\" >0.830948</td>\n",
              "    </tr>\n",
              "  </tbody>\n",
              "</table>\n"
            ],
            "text/plain": [
              "<pandas.io.formats.style.Styler at 0x7ff395567250>"
            ]
          },
          "execution_count": 57,
          "metadata": {},
          "output_type": "execute_result"
        }
      ],
      "source": [
        "pv_vect_c  # старая таблица"
      ]
    },
    {
      "cell_type": "markdown",
      "id": "5ccd8f5d",
      "metadata": {
        "id": "5ccd8f5d"
      },
      "source": [
        "*Подбор подходящего векторайзера и гиперпараметров классификаторов дал прирост качества моделей. KNN и лес даже подошли к baseline 0.8. Попробуем еще пообучать модели из FastText.*"
      ]
    },
    {
      "cell_type": "code",
      "execution_count": null,
      "id": "d7e1850a",
      "metadata": {
        "id": "d7e1850a"
      },
      "outputs": [],
      "source": [
        "ds = convertdt_fasttext(y_train, X_train)"
      ]
    },
    {
      "cell_type": "code",
      "execution_count": null,
      "id": "5fb7b8f6",
      "metadata": {
        "id": "5fb7b8f6"
      },
      "outputs": [],
      "source": [
        "F1 = []\n",
        "kf = KFold(n_splits=5, random_state=42, shuffle=True)\n",
        "\n",
        "for train_index, test_index in kf.split(X_train):\n",
        "    save_ds(ds.iloc[train_index], 'train.txt')\n",
        "    model = fasttext.train_supervised('train.txt', epoch=150, wordNgrams=2, minn=1, maxn=11)\n",
        "    y_hat = predict_convert(model, ds.iloc[test_index]['sent'])\n",
        "    F1.append(f1_score(np.array(y_train)[test_index], y_hat))"
      ]
    },
    {
      "cell_type": "code",
      "execution_count": null,
      "id": "f560cd9e",
      "metadata": {
        "id": "f560cd9e",
        "outputId": "71f85115-86c4-4d4d-e04c-6eb80eee7262"
      },
      "outputs": [
        {
          "data": {
            "text/plain": [
              "0.8720239112195328"
            ]
          },
          "execution_count": 65,
          "metadata": {},
          "output_type": "execute_result"
        }
      ],
      "source": [
        "np.mean(F1)"
      ]
    },
    {
      "cell_type": "markdown",
      "id": "1a36584a",
      "metadata": {
        "id": "1a36584a"
      },
      "source": [
        "*Попробуем еще использовать предобученную на Википедии модель для получения эмбеддингов и последующего применения другого классификатора.*"
      ]
    },
    {
      "cell_type": "code",
      "execution_count": null,
      "id": "fb737430",
      "metadata": {
        "id": "fb737430"
      },
      "outputs": [],
      "source": [
        "# import fasttext.util\n",
        "# fasttext.util.download_model('ru', if_exists='ignore')"
      ]
    },
    {
      "cell_type": "code",
      "execution_count": null,
      "id": "1ad8969a",
      "metadata": {
        "id": "1ad8969a",
        "outputId": "8a57a275-6a7c-4685-f64b-284874ffdf2b"
      },
      "outputs": [
        {
          "name": "stderr",
          "output_type": "stream",
          "text": [
            "Warning : `load_model` does not return WordVectorModel or SupervisedModel any more, but a `FastText` object which is very similar.\n"
          ]
        }
      ],
      "source": [
        "ft = fasttext.load_model('cc.ru.300.bin')"
      ]
    },
    {
      "cell_type": "code",
      "execution_count": null,
      "id": "ca8de2d1",
      "metadata": {
        "id": "ca8de2d1"
      },
      "outputs": [],
      "source": [
        "res_f1 = dict()\n",
        "\n",
        "for name_model, model in models.items():\n",
        "    if name_model == 'MultinomialNB':\n",
        "        continue\n",
        "    F1 = []\n",
        "    for train_index, test_index in kf.split(X_train):\n",
        "        save_ds(ds.iloc[train_index, -1], 'train.txt')\n",
        "        vectors = [ft.get_sentence_vector(x) for x in ds.iloc[train_index, -1]]\n",
        "        model.fit(vectors, np.array(y_train)[train_index])\n",
        "        vectors_test = [ft.get_sentence_vector(x) for x in ds.iloc[test_index, -1]]\n",
        "        y_hat = model.predict(vectors_test)\n",
        "        F1.append(f1_score(np.array(y_train)[test_index], y_hat))\n",
        "    res_f1[name_model] = np.mean(F1)"
      ]
    },
    {
      "cell_type": "code",
      "execution_count": null,
      "id": "f2239008",
      "metadata": {
        "id": "f2239008",
        "outputId": "181e7f84-0335-42d0-c60d-0f2f8fa3494d"
      },
      "outputs": [
        {
          "data": {
            "text/plain": [
              "{'LogisticRegression': 0.8243063651883963,\n",
              " 'SVC_lin': 0.8405321591823214,\n",
              " 'SVC_g': 0.8872046984162625,\n",
              " 'KNeighborsClassifier': 0.7585236019609395,\n",
              " 'MLP': 0.8686413565586226,\n",
              " 'RandomForestClassifier': 0.8277105995701813}"
            ]
          },
          "execution_count": 69,
          "metadata": {},
          "output_type": "execute_result"
        }
      ],
      "source": [
        "res_f1"
      ]
    },
    {
      "cell_type": "markdown",
      "id": "3a9a7ed1",
      "metadata": {
        "id": "3a9a7ed1"
      },
      "source": [
        "*Без особой настройки гиперпараметров SVC с гауссовым ядром показал хороший результат. MLP тоже показал хороший результат, но если его применять на после ft, то получим практически то же самое, что и предыдущая модель. (В отдельном ноутбуке-черновике я пробовала еще варианты моделей StackingClassifier и XGBClassifier, однако качества лучше, чем 0,887 не удалось получить. Поэтому далее решила остановиться на выбранной модели. Возможно, дело в большом количестве фичей и стоит попробовать другие векторные представления, например, эмбеддинги из BERT.)*"
      ]
    },
    {
      "cell_type": "code",
      "execution_count": null,
      "id": "2026ff28",
      "metadata": {
        "id": "2026ff28",
        "outputId": "d4f407d1-73db-4514-e17f-e0a676d61f18"
      },
      "outputs": [
        {
          "name": "stdout",
          "output_type": "stream",
          "text": [
            "Fitting 5 folds for each of 5 candidates, totalling 25 fits\n"
          ]
        },
        {
          "data": {
            "text/plain": [
              "[{'C': 15}, 0.8831533024533176]"
            ]
          },
          "execution_count": 70,
          "metadata": {},
          "output_type": "execute_result"
        }
      ],
      "source": [
        "name_model = 'SVC_g'\n",
        "model = models[name_model]\n",
        "vect = [ft.get_sentence_vector(x) for x in ds.iloc[:, -1]]\n",
        "params = {'C': [15, 18, 19, 20, 21]}\n",
        "gscv = GridSearchCV(model, params, \n",
        "                    cv=5, n_jobs=-1, \n",
        "                    scoring=scoring['f1'], \n",
        "                    verbose=2,\n",
        "                    error_score='raise')\n",
        "gscv.fit(vect, y_train)\n",
        "lg_gscv = [gscv.best_params_, gscv.best_score_]\n",
        "lg_gscv"
      ]
    },
    {
      "cell_type": "code",
      "execution_count": null,
      "id": "a8c0626a",
      "metadata": {
        "id": "a8c0626a",
        "outputId": "4b022255-a1da-4b74-af82-aa600ebacacf"
      },
      "outputs": [
        {
          "data": {
            "image/png": "[encoded data removed]",
            "text/plain": [
              "<Figure size 432x288 with 1 Axes>"
            ]
          },
          "metadata": {
            "needs_background": "light"
          },
          "output_type": "display_data"
        }
      ],
      "source": [
        "ts = np.linspace(0.6, 1, 7)\n",
        "train_sz, train_score, test_score = learning_curve(SVC(random_state=42, C=15), \n",
        "                                                   vect, y_train, cv=5, \n",
        "                                                   random_state=42,\n",
        "                                                   scoring=scoring['f1'],\n",
        "                                                   train_sizes=ts,\n",
        "                                                   n_jobs=-1)\n",
        "x, y = train_sz, np.mean(train_score, axis=1)\n",
        "plt.plot(x, y, label='train')\n",
        "x, y = train_sz, np.mean(test_score, axis=1)\n",
        "plt.plot(x, y, label='test')\n",
        "plt.legend();"
      ]
    },
    {
      "cell_type": "code",
      "execution_count": null,
      "id": "0bea4822",
      "metadata": {
        "id": "0bea4822"
      },
      "outputs": [],
      "source": [
        "vect_test = [ft.get_sentence_vector(x) for x in X_test]"
      ]
    },
    {
      "cell_type": "code",
      "execution_count": null,
      "id": "6060c5f4",
      "metadata": {
        "id": "6060c5f4",
        "outputId": "4c0ce2df-3502-44cc-9e20-24c18ce2119e"
      },
      "outputs": [
        {
          "data": {
            "text/plain": [
              "0.8929219600725953"
            ]
          },
          "execution_count": 74,
          "metadata": {},
          "output_type": "execute_result"
        }
      ],
      "source": [
        "model = SVC(random_state=42, C=15, probability=True)\n",
        "model.fit(vect, y_train)\n",
        "y_hat = model.predict(vect_test)\n",
        "f1_score(y_test, y_hat)"
      ]
    },
    {
      "cell_type": "code",
      "execution_count": null,
      "id": "fac69bd7",
      "metadata": {
        "id": "fac69bd7",
        "outputId": "270e6aff-07b7-418b-bd4f-cc84703609dc"
      },
      "outputs": [
        {
          "data": {
            "text/plain": [
              "0.9555978260869564"
            ]
          },
          "execution_count": 75,
          "metadata": {},
          "output_type": "execute_result"
        }
      ],
      "source": [
        "roc_auc_score(y_test, model.predict_proba(vect_test)[:, 1])"
      ]
    },
    {
      "cell_type": "code",
      "execution_count": null,
      "id": "7fd132b6",
      "metadata": {
        "id": "7fd132b6",
        "outputId": "4a95b5ab-7c24-4071-e256-7ffdaa17c728"
      },
      "outputs": [
        {
          "data": {
            "image/png": "[encoded data removed]",
            "text/plain": [
              "<Figure size 432x288 with 2 Axes>"
            ]
          },
          "metadata": {
            "needs_background": "light"
          },
          "output_type": "display_data"
        }
      ],
      "source": [
        "class_names = [0, 1]\n",
        "fig, ax = plt.subplots()\n",
        "ticks = np.arange(len(class_names))\n",
        "plt.xticks(ticks, class_names)\n",
        "plt.yticks(ticks, class_names)\n",
        "sns.heatmap(pd.DataFrame(confusion_matrix(y_test, y_hat)), annot=True, fmt='.3g')\n",
        "plt.ylabel('Действительные значения')\n",
        "plt.xlabel('Предсказанные значения');"
      ]
    },
    {
      "cell_type": "markdown",
      "id": "20ee035b",
      "metadata": {
        "id": "20ee035b"
      },
      "source": [
        "*Хотя видно, что модель переобучена, а значит, можно еще усовершенствовать, SVC с гауссовым ядром показал лучшее качество на кросс-валидации из рассматриваемых моделей (0,883), хороший roc-auc-score (0,9556) и хорошую оценку на тестовой выборке (0,893). Поэтому его я и беру в финальную модель.*"
      ]
    },
    {
      "cell_type": "markdown",
      "id": "195c6ff7",
      "metadata": {
        "id": "195c6ff7"
      },
      "source": [
        "### \"Обучение и предсказание\""
      ]
    },
    {
      "cell_type": "code",
      "execution_count": null,
      "id": "deeec17a",
      "metadata": {
        "id": "deeec17a",
        "outputId": "2ea1eb8d-d0c5-4e5b-d446-7174de664afa"
      },
      "outputs": [
        {
          "data": {
            "text/plain": [
              "SVC(C=15, probability=True, random_state=42)"
            ]
          },
          "execution_count": 77,
          "metadata": {},
          "output_type": "execute_result"
        }
      ],
      "source": [
        "ft = fasttext.load_model('cc.ru.300.bin')\n",
        "vect = [ft.get_sentence_vector(x) for x in X]\n",
        "model = SVC(random_state=42, C=15, probability=True)\n",
        "model.fit(vect, Y)"
      ]
    },
    {
      "cell_type": "code",
      "execution_count": null,
      "id": "865e489e",
      "metadata": {
        "id": "865e489e",
        "outputId": "416ea2a4-67df-4bb3-f468-7d514681c619"
      },
      "outputs": [
        {
          "data": {
            "text/html": [
              "<div>\n",
              "<style scoped>\n",
              "    .dataframe tbody tr th:only-of-type {\n",
              "        vertical-align: middle;\n",
              "    }\n",
              "\n",
              "    .dataframe tbody tr th {\n",
              "        vertical-align: top;\n",
              "    }\n",
              "\n",
              "    .dataframe thead th {\n",
              "        text-align: right;\n",
              "    }\n",
              "</style>\n",
              "<table border=\"1\" class=\"dataframe\">\n",
              "  <thead>\n",
              "    <tr style=\"text-align: right;\">\n",
              "      <th></th>\n",
              "      <th>is_fake</th>\n",
              "      <th>title_new</th>\n",
              "    </tr>\n",
              "  </thead>\n",
              "  <tbody>\n",
              "    <tr>\n",
              "      <th>0</th>\n",
              "      <td>0</td>\n",
              "      <td>роскомнадзор представил реестр сочетаний цвето...</td>\n",
              "    </tr>\n",
              "    <tr>\n",
              "      <th>1</th>\n",
              "      <td>0</td>\n",
              "      <td>ночью под минском на президентской горе белара...</td>\n",
              "    </tr>\n",
              "    <tr>\n",
              "      <th>2</th>\n",
              "      <td>0</td>\n",
              "      <td>бывший спичрайтер юрия лозы рассказал о трудно...</td>\n",
              "    </tr>\n",
              "  </tbody>\n",
              "</table>\n",
              "</div>"
            ],
            "text/plain": [
              "   is_fake                                          title_new\n",
              "0        0  роскомнадзор представил реестр сочетаний цвето...\n",
              "1        0  ночью под минском на президентской горе белара...\n",
              "2        0  бывший спичрайтер юрия лозы рассказал о трудно..."
            ]
          },
          "execution_count": 80,
          "metadata": {},
          "output_type": "execute_result"
        }
      ],
      "source": [
        "data_test = pd.read_csv('clean_data_test.csv')\n",
        "data_test.head(3)"
      ]
    },
    {
      "cell_type": "code",
      "execution_count": null,
      "id": "f6259147",
      "metadata": {
        "id": "f6259147"
      },
      "outputs": [],
      "source": [
        "vect = [ft.get_sentence_vector(x) for x in data_test['title_new']]"
      ]
    },
    {
      "cell_type": "code",
      "execution_count": null,
      "id": "7c0037e7",
      "metadata": {
        "id": "7c0037e7"
      },
      "outputs": [],
      "source": [
        "y_hat = model.predict(vect)"
      ]
    },
    {
      "cell_type": "code",
      "execution_count": null,
      "id": "9534fd02",
      "metadata": {
        "id": "9534fd02",
        "outputId": "a5025653-9c6e-4f1e-d2b1-356350e7043e"
      },
      "outputs": [
        {
          "data": {
            "text/html": [
              "<div>\n",
              "<style scoped>\n",
              "    .dataframe tbody tr th:only-of-type {\n",
              "        vertical-align: middle;\n",
              "    }\n",
              "\n",
              "    .dataframe tbody tr th {\n",
              "        vertical-align: top;\n",
              "    }\n",
              "\n",
              "    .dataframe thead th {\n",
              "        text-align: right;\n",
              "    }\n",
              "</style>\n",
              "<table border=\"1\" class=\"dataframe\">\n",
              "  <thead>\n",
              "    <tr style=\"text-align: right;\">\n",
              "      <th></th>\n",
              "      <th>title</th>\n",
              "      <th>is_fake</th>\n",
              "    </tr>\n",
              "  </thead>\n",
              "  <tbody>\n",
              "    <tr>\n",
              "      <th>0</th>\n",
              "      <td>Роскомнадзор представил реестр сочетаний цвето...</td>\n",
              "      <td>1</td>\n",
              "    </tr>\n",
              "    <tr>\n",
              "      <th>1</th>\n",
              "      <td>Ночью под Минском на президентской горе Белара...</td>\n",
              "      <td>1</td>\n",
              "    </tr>\n",
              "    <tr>\n",
              "      <th>2</th>\n",
              "      <td>Бывший спичрайтер Юрия Лозы рассказал о трудно...</td>\n",
              "      <td>1</td>\n",
              "    </tr>\n",
              "  </tbody>\n",
              "</table>\n",
              "</div>"
            ],
            "text/plain": [
              "                                               title  is_fake\n",
              "0  Роскомнадзор представил реестр сочетаний цвето...        1\n",
              "1  Ночью под Минском на президентской горе Белара...        1\n",
              "2  Бывший спичрайтер Юрия Лозы рассказал о трудно...        1"
            ]
          },
          "execution_count": 87,
          "metadata": {},
          "output_type": "execute_result"
        }
      ],
      "source": [
        "data = pd.read_csv('test.tsv', sep='\\t')\n",
        "data['is_fake'] = y_hat\n",
        "data.head(3)"
      ]
    },
    {
      "cell_type": "code",
      "execution_count": null,
      "id": "65cf16de",
      "metadata": {
        "id": "65cf16de"
      },
      "outputs": [],
      "source": [
        "data.to_csv('predictions.tsv', index=False, sep='\\t')"
      ]
    }
  ],
  "metadata": {
    "kernelspec": {
      "display_name": "Python 3",
      "language": "python",
      "name": "python3"
    },
    "language_info": {
      "codemirror_mode": {
        "name": "ipython",
        "version": 3
      },
      "file_extension": ".py",
      "mimetype": "text/x-python",
      "name": "python",
      "nbconvert_exporter": "python",
      "pygments_lexer": "ipython3",
      "version": "3.8.8"
    },
    "colab": {
      "name": "train_models.ipynb",
      "provenance": []
    }
  },
  "nbformat": 4,
  "nbformat_minor": 5
}